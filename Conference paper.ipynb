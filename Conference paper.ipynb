{
 "cells": [
  {
   "cell_type": "code",
   "execution_count": 46,
   "id": "b412c7c9",
   "metadata": {},
   "outputs": [
    {
     "name": "stderr",
     "output_type": "stream",
     "text": [
      "[nltk_data] Downloading package punkt to\n",
      "[nltk_data]     C:\\Users\\pengalo\\AppData\\Roaming\\nltk_data...\n",
      "[nltk_data]   Package punkt is already up-to-date!\n",
      "[nltk_data] Downloading package stopwords to\n",
      "[nltk_data]     C:\\Users\\pengalo\\AppData\\Roaming\\nltk_data...\n",
      "[nltk_data]   Package stopwords is already up-to-date!\n",
      "[nltk_data] Downloading package wordnet to\n",
      "[nltk_data]     C:\\Users\\pengalo\\AppData\\Roaming\\nltk_data...\n",
      "[nltk_data]   Package wordnet is already up-to-date!\n",
      "[nltk_data] Downloading package averaged_perceptron_tagger to\n",
      "[nltk_data]     C:\\Users\\pengalo\\AppData\\Roaming\\nltk_data...\n",
      "[nltk_data]   Package averaged_perceptron_tagger is already up-to-\n",
      "[nltk_data]       date!\n"
     ]
    }
   ],
   "source": [
    "import pandas as pd\n",
    "import numpy as np\n",
    "import nltk\n",
    "import re \n",
    "from nltk.corpus import stopwords\n",
    "from autocorrect import Speller\n",
    "from nltk.stem import WordNetLemmatizer\n",
    "from nltk.stem import PorterStemmer\n",
    "from sklearn.feature_extraction.text import TfidfVectorizer\n",
    "from sklearn.svm import LinearSVC\n",
    "from sklearn.pipeline import Pipeline\n",
    "from nltk.tokenize.treebank import TreebankWordDetokenizer\n",
    "from sklearn.model_selection import train_test_split\n",
    "from sklearn.metrics import classification_report, confusion_matrix\n",
    "\n",
    "nltk.download('punkt')\n",
    "nltk.download('stopwords')\n",
    "nltk.download('wordnet')\n",
    "nltk.download('averaged_perceptron_tagger')\n",
    "\n",
    "tokenizer = nltk.RegexpTokenizer(r\"\\w+\")\n",
    "stop_words = set(stopwords.words('english'))\n",
    "lemmatizer = WordNetLemmatizer()\n",
    "ps = PorterStemmer()"
   ]
  },
  {
   "cell_type": "markdown",
   "id": "565f6af9",
   "metadata": {},
   "source": [
    "Drop the columns \n",
    "Delete @, links, #\n",
    "replace 0 with -1\n",
    "replace 4 with 1\n",
    "Tokenize\n",
    "delete stopwords \n",
    "lemmatisation\n",
    "stemming"
   ]
  },
  {
   "cell_type": "code",
   "execution_count": 122,
   "id": "1958d19f",
   "metadata": {},
   "outputs": [
    {
     "name": "stdout",
     "output_type": "stream",
     "text": [
      "['awww', 'mentioned']\n"
     ]
    }
   ],
   "source": [
    "def removeStopWords(L) :\n",
    "  filtered_sentence = []\n",
    "  for w in L:\n",
    "    if w not in stop_words:\n",
    "        filtered_sentence.append(w)\n",
    "  return filtered_sentence\n",
    "\n",
    "def lemmatizeWords(L) :\n",
    "  lemmatizedSentence = []\n",
    "  for w in L:\n",
    "    lemmatizedSentence.append(lemmatizer.lemmatize(w))\n",
    "  return lemmatizedSentence\n",
    "\n",
    "def stemWords(L) : \n",
    "  stemedSentence = []\n",
    "  for w in L:\n",
    "    stemedSentence.append(ps.stem(w))\n",
    "  return stemedSentence\n",
    "\n",
    "def removeNumbers(L) :\n",
    "  noNumberSentence = []\n",
    "  for w in L:\n",
    "    if not w.isdigit() :\n",
    "      noNumberSentence.append(w)\n",
    "  return noNumberSentence\n",
    "\n",
    "def detokenizer(L) : \n",
    "  return TreebankWordDetokenizer().detokenize(L)\n",
    "\n",
    "def flatener(L) :\n",
    "    flatenedTokens = []\n",
    "    for w in L:\n",
    "      flatenedTokens.append(w[0] + \"/\" + w[1])\n",
    "    return flatenedTokens\n",
    "\n",
    "def reduceScore(Rating):\n",
    "    if(Rating <=2 ):\n",
    "        return -1\n",
    "    else:\n",
    "        return 1\n",
    "    \n",
    "def clean_text(Review):\n",
    "   \n",
    "    Review = str(Review).lower() # convert to lowercase\n",
    "    Review = re.sub('\\[.*?\\]', '', Review) # Remove []\n",
    "    Review = re.sub('https?://\\S+|www\\.\\S+', '', Review) # Remove URls\n",
    "    Review = re.sub('<.*?>+', '', Review) #Remove html code\n",
    "    Review = re.sub(r'[^a-z0-9\\s]', '', Review) # Remove punctuation\n",
    "    Review = re.sub('\\n', '', Review) #remove return to line\n",
    "    Review = re.sub('\\w*\\d\\w*', '', Review) #Remove numbers\n",
    "    return Review\n",
    "\n",
    "def libelToScore(libel):\n",
    "    if libel == \"negative\" : return -1\n",
    "    elif libel == \"positive\" :return 1\n",
    "    else : return 0\n",
    "\n",
    "print(removeNumbers([\"awww\", \"50\", \"mentioned\"]))"
   ]
  },
  {
   "cell_type": "markdown",
   "id": "262a0d6f",
   "metadata": {},
   "source": [
    "# Sentiment 140 database"
   ]
  },
  {
   "cell_type": "code",
   "execution_count": 66,
   "id": "241a3f82",
   "metadata": {},
   "outputs": [
    {
     "data": {
      "text/html": [
       "<div>\n",
       "<style scoped>\n",
       "    .dataframe tbody tr th:only-of-type {\n",
       "        vertical-align: middle;\n",
       "    }\n",
       "\n",
       "    .dataframe tbody tr th {\n",
       "        vertical-align: top;\n",
       "    }\n",
       "\n",
       "    .dataframe thead th {\n",
       "        text-align: right;\n",
       "    }\n",
       "</style>\n",
       "<table border=\"1\" class=\"dataframe\">\n",
       "  <thead>\n",
       "    <tr style=\"text-align: right;\">\n",
       "      <th></th>\n",
       "      <th>polarity</th>\n",
       "      <th>ID</th>\n",
       "      <th>Date</th>\n",
       "      <th>Querry</th>\n",
       "      <th>User</th>\n",
       "      <th>tweets</th>\n",
       "    </tr>\n",
       "  </thead>\n",
       "  <tbody>\n",
       "    <tr>\n",
       "      <th>0</th>\n",
       "      <td>0</td>\n",
       "      <td>1467810369</td>\n",
       "      <td>Mon Apr 06 22:19:45 PDT 2009</td>\n",
       "      <td>NO_QUERY</td>\n",
       "      <td>_TheSpecialOne_</td>\n",
       "      <td>@switchfoot http://twitpic.com/2y1zl - Awww, t...</td>\n",
       "    </tr>\n",
       "    <tr>\n",
       "      <th>1</th>\n",
       "      <td>0</td>\n",
       "      <td>1467810672</td>\n",
       "      <td>Mon Apr 06 22:19:49 PDT 2009</td>\n",
       "      <td>NO_QUERY</td>\n",
       "      <td>scotthamilton</td>\n",
       "      <td>is upset that he can't update his Facebook by ...</td>\n",
       "    </tr>\n",
       "    <tr>\n",
       "      <th>2</th>\n",
       "      <td>0</td>\n",
       "      <td>1467810917</td>\n",
       "      <td>Mon Apr 06 22:19:53 PDT 2009</td>\n",
       "      <td>NO_QUERY</td>\n",
       "      <td>mattycus</td>\n",
       "      <td>@Kenichan I dived many times for the ball. Man...</td>\n",
       "    </tr>\n",
       "    <tr>\n",
       "      <th>3</th>\n",
       "      <td>0</td>\n",
       "      <td>1467811184</td>\n",
       "      <td>Mon Apr 06 22:19:57 PDT 2009</td>\n",
       "      <td>NO_QUERY</td>\n",
       "      <td>ElleCTF</td>\n",
       "      <td>my whole body feels itchy and like its on fire</td>\n",
       "    </tr>\n",
       "    <tr>\n",
       "      <th>4</th>\n",
       "      <td>0</td>\n",
       "      <td>1467811193</td>\n",
       "      <td>Mon Apr 06 22:19:57 PDT 2009</td>\n",
       "      <td>NO_QUERY</td>\n",
       "      <td>Karoli</td>\n",
       "      <td>@nationwideclass no, it's not behaving at all....</td>\n",
       "    </tr>\n",
       "  </tbody>\n",
       "</table>\n",
       "</div>"
      ],
      "text/plain": [
       "   polarity          ID                          Date    Querry  \\\n",
       "0         0  1467810369  Mon Apr 06 22:19:45 PDT 2009  NO_QUERY   \n",
       "1         0  1467810672  Mon Apr 06 22:19:49 PDT 2009  NO_QUERY   \n",
       "2         0  1467810917  Mon Apr 06 22:19:53 PDT 2009  NO_QUERY   \n",
       "3         0  1467811184  Mon Apr 06 22:19:57 PDT 2009  NO_QUERY   \n",
       "4         0  1467811193  Mon Apr 06 22:19:57 PDT 2009  NO_QUERY   \n",
       "\n",
       "              User                                             tweets  \n",
       "0  _TheSpecialOne_  @switchfoot http://twitpic.com/2y1zl - Awww, t...  \n",
       "1    scotthamilton  is upset that he can't update his Facebook by ...  \n",
       "2         mattycus  @Kenichan I dived many times for the ball. Man...  \n",
       "3          ElleCTF    my whole body feels itchy and like its on fire   \n",
       "4           Karoli  @nationwideclass no, it's not behaving at all....  "
      ]
     },
     "execution_count": 66,
     "metadata": {},
     "output_type": "execute_result"
    }
   ],
   "source": [
    "training_data = pd.read_csv(\"./Sentiment140 - A Twitter Sentiment Analysis Tool/training.1600000.processed.noemoticon.csv\", names = [\"polarity\", \"ID\", \"Date\", \"Querry\", \"User\", \"tweets\"])\n",
    "training_data.head(5)"
   ]
  },
  {
   "cell_type": "code",
   "execution_count": 67,
   "id": "b7fdbd88",
   "metadata": {},
   "outputs": [],
   "source": [
    "training_data = training_data.drop( columns = [\"ID\", \"Date\", \"Querry\", \"User\"])"
   ]
  },
  {
   "cell_type": "code",
   "execution_count": 68,
   "id": "079e7ab2",
   "metadata": {},
   "outputs": [],
   "source": [
    "training_data[\"Clean_tweets\"] = training_data[\"tweets\"].replace('(@\\w+.*?)',\"\", regex=True).replace('(#\\w+.*?)',\"\", regex=True).str.replace('http\\S+|www.\\S+', '', case=False, regex=True).str.lower()\n",
    "training_data[\"polarity\"] = training_data[\"polarity\"].replace(0,-1).replace(4,1)"
   ]
  },
  {
   "cell_type": "code",
   "execution_count": 69,
   "id": "59a868a1",
   "metadata": {},
   "outputs": [
    {
     "data": {
      "text/html": [
       "<div>\n",
       "<style scoped>\n",
       "    .dataframe tbody tr th:only-of-type {\n",
       "        vertical-align: middle;\n",
       "    }\n",
       "\n",
       "    .dataframe tbody tr th {\n",
       "        vertical-align: top;\n",
       "    }\n",
       "\n",
       "    .dataframe thead th {\n",
       "        text-align: right;\n",
       "    }\n",
       "</style>\n",
       "<table border=\"1\" class=\"dataframe\">\n",
       "  <thead>\n",
       "    <tr style=\"text-align: right;\">\n",
       "      <th></th>\n",
       "      <th>polarity</th>\n",
       "      <th>tweets</th>\n",
       "      <th>Clean_tweets</th>\n",
       "    </tr>\n",
       "  </thead>\n",
       "  <tbody>\n",
       "    <tr>\n",
       "      <th>0</th>\n",
       "      <td>-1</td>\n",
       "      <td>@switchfoot http://twitpic.com/2y1zl - Awww, t...</td>\n",
       "      <td>- awww, that's a bummer.  you shoulda got da...</td>\n",
       "    </tr>\n",
       "    <tr>\n",
       "      <th>1</th>\n",
       "      <td>-1</td>\n",
       "      <td>is upset that he can't update his Facebook by ...</td>\n",
       "      <td>is upset that he can't update his facebook by ...</td>\n",
       "    </tr>\n",
       "    <tr>\n",
       "      <th>2</th>\n",
       "      <td>-1</td>\n",
       "      <td>@Kenichan I dived many times for the ball. Man...</td>\n",
       "      <td>i dived many times for the ball. managed to s...</td>\n",
       "    </tr>\n",
       "    <tr>\n",
       "      <th>3</th>\n",
       "      <td>-1</td>\n",
       "      <td>my whole body feels itchy and like its on fire</td>\n",
       "      <td>my whole body feels itchy and like its on fire</td>\n",
       "    </tr>\n",
       "    <tr>\n",
       "      <th>4</th>\n",
       "      <td>-1</td>\n",
       "      <td>@nationwideclass no, it's not behaving at all....</td>\n",
       "      <td>no, it's not behaving at all. i'm mad. why am...</td>\n",
       "    </tr>\n",
       "    <tr>\n",
       "      <th>...</th>\n",
       "      <td>...</td>\n",
       "      <td>...</td>\n",
       "      <td>...</td>\n",
       "    </tr>\n",
       "    <tr>\n",
       "      <th>1599995</th>\n",
       "      <td>1</td>\n",
       "      <td>Just woke up. Having no school is the best fee...</td>\n",
       "      <td>just woke up. having no school is the best fee...</td>\n",
       "    </tr>\n",
       "    <tr>\n",
       "      <th>1599996</th>\n",
       "      <td>1</td>\n",
       "      <td>TheWDB.com - Very cool to hear old Walt interv...</td>\n",
       "      <td>thewdb.com - very cool to hear old walt interv...</td>\n",
       "    </tr>\n",
       "    <tr>\n",
       "      <th>1599997</th>\n",
       "      <td>1</td>\n",
       "      <td>Are you ready for your MoJo Makeover? Ask me f...</td>\n",
       "      <td>are you ready for your mojo makeover? ask me f...</td>\n",
       "    </tr>\n",
       "    <tr>\n",
       "      <th>1599998</th>\n",
       "      <td>1</td>\n",
       "      <td>Happy 38th Birthday to my boo of alll time!!! ...</td>\n",
       "      <td>happy 38th birthday to my boo of alll time!!! ...</td>\n",
       "    </tr>\n",
       "    <tr>\n",
       "      <th>1599999</th>\n",
       "      <td>1</td>\n",
       "      <td>happy #charitytuesday @theNSPCC @SparksCharity...</td>\n",
       "      <td>happy</td>\n",
       "    </tr>\n",
       "  </tbody>\n",
       "</table>\n",
       "<p>1600000 rows × 3 columns</p>\n",
       "</div>"
      ],
      "text/plain": [
       "         polarity                                             tweets  \\\n",
       "0              -1  @switchfoot http://twitpic.com/2y1zl - Awww, t...   \n",
       "1              -1  is upset that he can't update his Facebook by ...   \n",
       "2              -1  @Kenichan I dived many times for the ball. Man...   \n",
       "3              -1    my whole body feels itchy and like its on fire    \n",
       "4              -1  @nationwideclass no, it's not behaving at all....   \n",
       "...           ...                                                ...   \n",
       "1599995         1  Just woke up. Having no school is the best fee...   \n",
       "1599996         1  TheWDB.com - Very cool to hear old Walt interv...   \n",
       "1599997         1  Are you ready for your MoJo Makeover? Ask me f...   \n",
       "1599998         1  Happy 38th Birthday to my boo of alll time!!! ...   \n",
       "1599999         1  happy #charitytuesday @theNSPCC @SparksCharity...   \n",
       "\n",
       "                                              Clean_tweets  \n",
       "0          - awww, that's a bummer.  you shoulda got da...  \n",
       "1        is upset that he can't update his facebook by ...  \n",
       "2         i dived many times for the ball. managed to s...  \n",
       "3          my whole body feels itchy and like its on fire   \n",
       "4         no, it's not behaving at all. i'm mad. why am...  \n",
       "...                                                    ...  \n",
       "1599995  just woke up. having no school is the best fee...  \n",
       "1599996  thewdb.com - very cool to hear old walt interv...  \n",
       "1599997  are you ready for your mojo makeover? ask me f...  \n",
       "1599998  happy 38th birthday to my boo of alll time!!! ...  \n",
       "1599999                                         happy       \n",
       "\n",
       "[1600000 rows x 3 columns]"
      ]
     },
     "execution_count": 69,
     "metadata": {},
     "output_type": "execute_result"
    }
   ],
   "source": [
    "training_data"
   ]
  },
  {
   "cell_type": "code",
   "execution_count": 70,
   "id": "80347335",
   "metadata": {},
   "outputs": [
    {
     "data": {
      "text/html": [
       "<div>\n",
       "<style scoped>\n",
       "    .dataframe tbody tr th:only-of-type {\n",
       "        vertical-align: middle;\n",
       "    }\n",
       "\n",
       "    .dataframe tbody tr th {\n",
       "        vertical-align: top;\n",
       "    }\n",
       "\n",
       "    .dataframe thead th {\n",
       "        text-align: right;\n",
       "    }\n",
       "</style>\n",
       "<table border=\"1\" class=\"dataframe\">\n",
       "  <thead>\n",
       "    <tr style=\"text-align: right;\">\n",
       "      <th></th>\n",
       "      <th>polarity</th>\n",
       "      <th>tweets</th>\n",
       "      <th>Clean_tweets</th>\n",
       "      <th>Tokenized_tweets</th>\n",
       "    </tr>\n",
       "  </thead>\n",
       "  <tbody>\n",
       "    <tr>\n",
       "      <th>0</th>\n",
       "      <td>-1</td>\n",
       "      <td>@switchfoot http://twitpic.com/2y1zl - Awww, t...</td>\n",
       "      <td>- awww, that's a bummer.  you shoulda got da...</td>\n",
       "      <td>[awww, that, s, a, bummer, you, shoulda, got, ...</td>\n",
       "    </tr>\n",
       "    <tr>\n",
       "      <th>1</th>\n",
       "      <td>-1</td>\n",
       "      <td>is upset that he can't update his Facebook by ...</td>\n",
       "      <td>is upset that he can't update his facebook by ...</td>\n",
       "      <td>[is, upset, that, he, can, t, update, his, fac...</td>\n",
       "    </tr>\n",
       "    <tr>\n",
       "      <th>2</th>\n",
       "      <td>-1</td>\n",
       "      <td>@Kenichan I dived many times for the ball. Man...</td>\n",
       "      <td>i dived many times for the ball. managed to s...</td>\n",
       "      <td>[i, dived, many, times, for, the, ball, manage...</td>\n",
       "    </tr>\n",
       "    <tr>\n",
       "      <th>3</th>\n",
       "      <td>-1</td>\n",
       "      <td>my whole body feels itchy and like its on fire</td>\n",
       "      <td>my whole body feels itchy and like its on fire</td>\n",
       "      <td>[my, whole, body, feels, itchy, and, like, its...</td>\n",
       "    </tr>\n",
       "    <tr>\n",
       "      <th>4</th>\n",
       "      <td>-1</td>\n",
       "      <td>@nationwideclass no, it's not behaving at all....</td>\n",
       "      <td>no, it's not behaving at all. i'm mad. why am...</td>\n",
       "      <td>[no, it, s, not, behaving, at, all, i, m, mad,...</td>\n",
       "    </tr>\n",
       "    <tr>\n",
       "      <th>...</th>\n",
       "      <td>...</td>\n",
       "      <td>...</td>\n",
       "      <td>...</td>\n",
       "      <td>...</td>\n",
       "    </tr>\n",
       "    <tr>\n",
       "      <th>1599995</th>\n",
       "      <td>1</td>\n",
       "      <td>Just woke up. Having no school is the best fee...</td>\n",
       "      <td>just woke up. having no school is the best fee...</td>\n",
       "      <td>[just, woke, up, having, no, school, is, the, ...</td>\n",
       "    </tr>\n",
       "    <tr>\n",
       "      <th>1599996</th>\n",
       "      <td>1</td>\n",
       "      <td>TheWDB.com - Very cool to hear old Walt interv...</td>\n",
       "      <td>thewdb.com - very cool to hear old walt interv...</td>\n",
       "      <td>[thewdb, com, very, cool, to, hear, old, walt,...</td>\n",
       "    </tr>\n",
       "    <tr>\n",
       "      <th>1599997</th>\n",
       "      <td>1</td>\n",
       "      <td>Are you ready for your MoJo Makeover? Ask me f...</td>\n",
       "      <td>are you ready for your mojo makeover? ask me f...</td>\n",
       "      <td>[are, you, ready, for, your, mojo, makeover, a...</td>\n",
       "    </tr>\n",
       "    <tr>\n",
       "      <th>1599998</th>\n",
       "      <td>1</td>\n",
       "      <td>Happy 38th Birthday to my boo of alll time!!! ...</td>\n",
       "      <td>happy 38th birthday to my boo of alll time!!! ...</td>\n",
       "      <td>[happy, 38th, birthday, to, my, boo, of, alll,...</td>\n",
       "    </tr>\n",
       "    <tr>\n",
       "      <th>1599999</th>\n",
       "      <td>1</td>\n",
       "      <td>happy #charitytuesday @theNSPCC @SparksCharity...</td>\n",
       "      <td>happy</td>\n",
       "      <td>[happy]</td>\n",
       "    </tr>\n",
       "  </tbody>\n",
       "</table>\n",
       "<p>1600000 rows × 4 columns</p>\n",
       "</div>"
      ],
      "text/plain": [
       "         polarity                                             tweets  \\\n",
       "0              -1  @switchfoot http://twitpic.com/2y1zl - Awww, t...   \n",
       "1              -1  is upset that he can't update his Facebook by ...   \n",
       "2              -1  @Kenichan I dived many times for the ball. Man...   \n",
       "3              -1    my whole body feels itchy and like its on fire    \n",
       "4              -1  @nationwideclass no, it's not behaving at all....   \n",
       "...           ...                                                ...   \n",
       "1599995         1  Just woke up. Having no school is the best fee...   \n",
       "1599996         1  TheWDB.com - Very cool to hear old Walt interv...   \n",
       "1599997         1  Are you ready for your MoJo Makeover? Ask me f...   \n",
       "1599998         1  Happy 38th Birthday to my boo of alll time!!! ...   \n",
       "1599999         1  happy #charitytuesday @theNSPCC @SparksCharity...   \n",
       "\n",
       "                                              Clean_tweets  \\\n",
       "0          - awww, that's a bummer.  you shoulda got da...   \n",
       "1        is upset that he can't update his facebook by ...   \n",
       "2         i dived many times for the ball. managed to s...   \n",
       "3          my whole body feels itchy and like its on fire    \n",
       "4         no, it's not behaving at all. i'm mad. why am...   \n",
       "...                                                    ...   \n",
       "1599995  just woke up. having no school is the best fee...   \n",
       "1599996  thewdb.com - very cool to hear old walt interv...   \n",
       "1599997  are you ready for your mojo makeover? ask me f...   \n",
       "1599998  happy 38th birthday to my boo of alll time!!! ...   \n",
       "1599999                                         happy        \n",
       "\n",
       "                                          Tokenized_tweets  \n",
       "0        [awww, that, s, a, bummer, you, shoulda, got, ...  \n",
       "1        [is, upset, that, he, can, t, update, his, fac...  \n",
       "2        [i, dived, many, times, for, the, ball, manage...  \n",
       "3        [my, whole, body, feels, itchy, and, like, its...  \n",
       "4        [no, it, s, not, behaving, at, all, i, m, mad,...  \n",
       "...                                                    ...  \n",
       "1599995  [just, woke, up, having, no, school, is, the, ...  \n",
       "1599996  [thewdb, com, very, cool, to, hear, old, walt,...  \n",
       "1599997  [are, you, ready, for, your, mojo, makeover, a...  \n",
       "1599998  [happy, 38th, birthday, to, my, boo, of, alll,...  \n",
       "1599999                                            [happy]  \n",
       "\n",
       "[1600000 rows x 4 columns]"
      ]
     },
     "execution_count": 70,
     "metadata": {},
     "output_type": "execute_result"
    }
   ],
   "source": [
    "training_data[\"Tokenized_tweets\"] = training_data[\"Clean_tweets\"].apply(tokenizer.tokenize)\n",
    "training_data"
   ]
  },
  {
   "cell_type": "code",
   "execution_count": 71,
   "id": "ca845418",
   "metadata": {},
   "outputs": [
    {
     "data": {
      "text/html": [
       "<div>\n",
       "<style scoped>\n",
       "    .dataframe tbody tr th:only-of-type {\n",
       "        vertical-align: middle;\n",
       "    }\n",
       "\n",
       "    .dataframe tbody tr th {\n",
       "        vertical-align: top;\n",
       "    }\n",
       "\n",
       "    .dataframe thead th {\n",
       "        text-align: right;\n",
       "    }\n",
       "</style>\n",
       "<table border=\"1\" class=\"dataframe\">\n",
       "  <thead>\n",
       "    <tr style=\"text-align: right;\">\n",
       "      <th></th>\n",
       "      <th>polarity</th>\n",
       "      <th>tweets</th>\n",
       "      <th>Clean_tweets</th>\n",
       "      <th>Tokenized_tweets</th>\n",
       "    </tr>\n",
       "  </thead>\n",
       "  <tbody>\n",
       "    <tr>\n",
       "      <th>0</th>\n",
       "      <td>-1</td>\n",
       "      <td>@switchfoot http://twitpic.com/2y1zl - Awww, t...</td>\n",
       "      <td>- awww, that's a bummer.  you shoulda got da...</td>\n",
       "      <td>[awww, bummer, shoulda, got, david, carr, thir...</td>\n",
       "    </tr>\n",
       "    <tr>\n",
       "      <th>1</th>\n",
       "      <td>-1</td>\n",
       "      <td>is upset that he can't update his Facebook by ...</td>\n",
       "      <td>is upset that he can't update his facebook by ...</td>\n",
       "      <td>[upset, update, facebook, texting, might, cry,...</td>\n",
       "    </tr>\n",
       "    <tr>\n",
       "      <th>2</th>\n",
       "      <td>-1</td>\n",
       "      <td>@Kenichan I dived many times for the ball. Man...</td>\n",
       "      <td>i dived many times for the ball. managed to s...</td>\n",
       "      <td>[dived, many, times, ball, managed, save, 50, ...</td>\n",
       "    </tr>\n",
       "    <tr>\n",
       "      <th>3</th>\n",
       "      <td>-1</td>\n",
       "      <td>my whole body feels itchy and like its on fire</td>\n",
       "      <td>my whole body feels itchy and like its on fire</td>\n",
       "      <td>[whole, body, feels, itchy, like, fire]</td>\n",
       "    </tr>\n",
       "    <tr>\n",
       "      <th>4</th>\n",
       "      <td>-1</td>\n",
       "      <td>@nationwideclass no, it's not behaving at all....</td>\n",
       "      <td>no, it's not behaving at all. i'm mad. why am...</td>\n",
       "      <td>[behaving, mad, see]</td>\n",
       "    </tr>\n",
       "    <tr>\n",
       "      <th>...</th>\n",
       "      <td>...</td>\n",
       "      <td>...</td>\n",
       "      <td>...</td>\n",
       "      <td>...</td>\n",
       "    </tr>\n",
       "    <tr>\n",
       "      <th>1599995</th>\n",
       "      <td>1</td>\n",
       "      <td>Just woke up. Having no school is the best fee...</td>\n",
       "      <td>just woke up. having no school is the best fee...</td>\n",
       "      <td>[woke, school, best, feeling, ever]</td>\n",
       "    </tr>\n",
       "    <tr>\n",
       "      <th>1599996</th>\n",
       "      <td>1</td>\n",
       "      <td>TheWDB.com - Very cool to hear old Walt interv...</td>\n",
       "      <td>thewdb.com - very cool to hear old walt interv...</td>\n",
       "      <td>[thewdb, com, cool, hear, old, walt, interviews]</td>\n",
       "    </tr>\n",
       "    <tr>\n",
       "      <th>1599997</th>\n",
       "      <td>1</td>\n",
       "      <td>Are you ready for your MoJo Makeover? Ask me f...</td>\n",
       "      <td>are you ready for your mojo makeover? ask me f...</td>\n",
       "      <td>[ready, mojo, makeover, ask, details]</td>\n",
       "    </tr>\n",
       "    <tr>\n",
       "      <th>1599998</th>\n",
       "      <td>1</td>\n",
       "      <td>Happy 38th Birthday to my boo of alll time!!! ...</td>\n",
       "      <td>happy 38th birthday to my boo of alll time!!! ...</td>\n",
       "      <td>[happy, 38th, birthday, boo, alll, time, tupac...</td>\n",
       "    </tr>\n",
       "    <tr>\n",
       "      <th>1599999</th>\n",
       "      <td>1</td>\n",
       "      <td>happy #charitytuesday @theNSPCC @SparksCharity...</td>\n",
       "      <td>happy</td>\n",
       "      <td>[happy]</td>\n",
       "    </tr>\n",
       "  </tbody>\n",
       "</table>\n",
       "<p>1600000 rows × 4 columns</p>\n",
       "</div>"
      ],
      "text/plain": [
       "         polarity                                             tweets  \\\n",
       "0              -1  @switchfoot http://twitpic.com/2y1zl - Awww, t...   \n",
       "1              -1  is upset that he can't update his Facebook by ...   \n",
       "2              -1  @Kenichan I dived many times for the ball. Man...   \n",
       "3              -1    my whole body feels itchy and like its on fire    \n",
       "4              -1  @nationwideclass no, it's not behaving at all....   \n",
       "...           ...                                                ...   \n",
       "1599995         1  Just woke up. Having no school is the best fee...   \n",
       "1599996         1  TheWDB.com - Very cool to hear old Walt interv...   \n",
       "1599997         1  Are you ready for your MoJo Makeover? Ask me f...   \n",
       "1599998         1  Happy 38th Birthday to my boo of alll time!!! ...   \n",
       "1599999         1  happy #charitytuesday @theNSPCC @SparksCharity...   \n",
       "\n",
       "                                              Clean_tweets  \\\n",
       "0          - awww, that's a bummer.  you shoulda got da...   \n",
       "1        is upset that he can't update his facebook by ...   \n",
       "2         i dived many times for the ball. managed to s...   \n",
       "3          my whole body feels itchy and like its on fire    \n",
       "4         no, it's not behaving at all. i'm mad. why am...   \n",
       "...                                                    ...   \n",
       "1599995  just woke up. having no school is the best fee...   \n",
       "1599996  thewdb.com - very cool to hear old walt interv...   \n",
       "1599997  are you ready for your mojo makeover? ask me f...   \n",
       "1599998  happy 38th birthday to my boo of alll time!!! ...   \n",
       "1599999                                         happy        \n",
       "\n",
       "                                          Tokenized_tweets  \n",
       "0        [awww, bummer, shoulda, got, david, carr, thir...  \n",
       "1        [upset, update, facebook, texting, might, cry,...  \n",
       "2        [dived, many, times, ball, managed, save, 50, ...  \n",
       "3                  [whole, body, feels, itchy, like, fire]  \n",
       "4                                     [behaving, mad, see]  \n",
       "...                                                    ...  \n",
       "1599995                [woke, school, best, feeling, ever]  \n",
       "1599996   [thewdb, com, cool, hear, old, walt, interviews]  \n",
       "1599997              [ready, mojo, makeover, ask, details]  \n",
       "1599998  [happy, 38th, birthday, boo, alll, time, tupac...  \n",
       "1599999                                            [happy]  \n",
       "\n",
       "[1600000 rows x 4 columns]"
      ]
     },
     "execution_count": 71,
     "metadata": {},
     "output_type": "execute_result"
    }
   ],
   "source": [
    "training_data[\"Tokenized_tweets\"] = training_data[\"Tokenized_tweets\"].apply(removeStopWords)\n",
    "training_data"
   ]
  },
  {
   "cell_type": "code",
   "execution_count": 72,
   "id": "eb8a622c",
   "metadata": {},
   "outputs": [
    {
     "data": {
      "text/html": [
       "<div>\n",
       "<style scoped>\n",
       "    .dataframe tbody tr th:only-of-type {\n",
       "        vertical-align: middle;\n",
       "    }\n",
       "\n",
       "    .dataframe tbody tr th {\n",
       "        vertical-align: top;\n",
       "    }\n",
       "\n",
       "    .dataframe thead th {\n",
       "        text-align: right;\n",
       "    }\n",
       "</style>\n",
       "<table border=\"1\" class=\"dataframe\">\n",
       "  <thead>\n",
       "    <tr style=\"text-align: right;\">\n",
       "      <th></th>\n",
       "      <th>polarity</th>\n",
       "      <th>tweets</th>\n",
       "      <th>Clean_tweets</th>\n",
       "      <th>Tokenized_tweets</th>\n",
       "    </tr>\n",
       "  </thead>\n",
       "  <tbody>\n",
       "    <tr>\n",
       "      <th>0</th>\n",
       "      <td>-1</td>\n",
       "      <td>@switchfoot http://twitpic.com/2y1zl - Awww, t...</td>\n",
       "      <td>- awww, that's a bummer.  you shoulda got da...</td>\n",
       "      <td>[awww, bummer, shoulda, got, david, carr, thir...</td>\n",
       "    </tr>\n",
       "    <tr>\n",
       "      <th>1</th>\n",
       "      <td>-1</td>\n",
       "      <td>is upset that he can't update his Facebook by ...</td>\n",
       "      <td>is upset that he can't update his facebook by ...</td>\n",
       "      <td>[upset, update, facebook, texting, might, cry,...</td>\n",
       "    </tr>\n",
       "    <tr>\n",
       "      <th>2</th>\n",
       "      <td>-1</td>\n",
       "      <td>@Kenichan I dived many times for the ball. Man...</td>\n",
       "      <td>i dived many times for the ball. managed to s...</td>\n",
       "      <td>[dived, many, time, ball, managed, save, 50, r...</td>\n",
       "    </tr>\n",
       "    <tr>\n",
       "      <th>3</th>\n",
       "      <td>-1</td>\n",
       "      <td>my whole body feels itchy and like its on fire</td>\n",
       "      <td>my whole body feels itchy and like its on fire</td>\n",
       "      <td>[whole, body, feel, itchy, like, fire]</td>\n",
       "    </tr>\n",
       "    <tr>\n",
       "      <th>4</th>\n",
       "      <td>-1</td>\n",
       "      <td>@nationwideclass no, it's not behaving at all....</td>\n",
       "      <td>no, it's not behaving at all. i'm mad. why am...</td>\n",
       "      <td>[behaving, mad, see]</td>\n",
       "    </tr>\n",
       "    <tr>\n",
       "      <th>...</th>\n",
       "      <td>...</td>\n",
       "      <td>...</td>\n",
       "      <td>...</td>\n",
       "      <td>...</td>\n",
       "    </tr>\n",
       "    <tr>\n",
       "      <th>1599995</th>\n",
       "      <td>1</td>\n",
       "      <td>Just woke up. Having no school is the best fee...</td>\n",
       "      <td>just woke up. having no school is the best fee...</td>\n",
       "      <td>[woke, school, best, feeling, ever]</td>\n",
       "    </tr>\n",
       "    <tr>\n",
       "      <th>1599996</th>\n",
       "      <td>1</td>\n",
       "      <td>TheWDB.com - Very cool to hear old Walt interv...</td>\n",
       "      <td>thewdb.com - very cool to hear old walt interv...</td>\n",
       "      <td>[thewdb, com, cool, hear, old, walt, interview]</td>\n",
       "    </tr>\n",
       "    <tr>\n",
       "      <th>1599997</th>\n",
       "      <td>1</td>\n",
       "      <td>Are you ready for your MoJo Makeover? Ask me f...</td>\n",
       "      <td>are you ready for your mojo makeover? ask me f...</td>\n",
       "      <td>[ready, mojo, makeover, ask, detail]</td>\n",
       "    </tr>\n",
       "    <tr>\n",
       "      <th>1599998</th>\n",
       "      <td>1</td>\n",
       "      <td>Happy 38th Birthday to my boo of alll time!!! ...</td>\n",
       "      <td>happy 38th birthday to my boo of alll time!!! ...</td>\n",
       "      <td>[happy, 38th, birthday, boo, alll, time, tupac...</td>\n",
       "    </tr>\n",
       "    <tr>\n",
       "      <th>1599999</th>\n",
       "      <td>1</td>\n",
       "      <td>happy #charitytuesday @theNSPCC @SparksCharity...</td>\n",
       "      <td>happy</td>\n",
       "      <td>[happy]</td>\n",
       "    </tr>\n",
       "  </tbody>\n",
       "</table>\n",
       "<p>1600000 rows × 4 columns</p>\n",
       "</div>"
      ],
      "text/plain": [
       "         polarity                                             tweets  \\\n",
       "0              -1  @switchfoot http://twitpic.com/2y1zl - Awww, t...   \n",
       "1              -1  is upset that he can't update his Facebook by ...   \n",
       "2              -1  @Kenichan I dived many times for the ball. Man...   \n",
       "3              -1    my whole body feels itchy and like its on fire    \n",
       "4              -1  @nationwideclass no, it's not behaving at all....   \n",
       "...           ...                                                ...   \n",
       "1599995         1  Just woke up. Having no school is the best fee...   \n",
       "1599996         1  TheWDB.com - Very cool to hear old Walt interv...   \n",
       "1599997         1  Are you ready for your MoJo Makeover? Ask me f...   \n",
       "1599998         1  Happy 38th Birthday to my boo of alll time!!! ...   \n",
       "1599999         1  happy #charitytuesday @theNSPCC @SparksCharity...   \n",
       "\n",
       "                                              Clean_tweets  \\\n",
       "0          - awww, that's a bummer.  you shoulda got da...   \n",
       "1        is upset that he can't update his facebook by ...   \n",
       "2         i dived many times for the ball. managed to s...   \n",
       "3          my whole body feels itchy and like its on fire    \n",
       "4         no, it's not behaving at all. i'm mad. why am...   \n",
       "...                                                    ...   \n",
       "1599995  just woke up. having no school is the best fee...   \n",
       "1599996  thewdb.com - very cool to hear old walt interv...   \n",
       "1599997  are you ready for your mojo makeover? ask me f...   \n",
       "1599998  happy 38th birthday to my boo of alll time!!! ...   \n",
       "1599999                                         happy        \n",
       "\n",
       "                                          Tokenized_tweets  \n",
       "0        [awww, bummer, shoulda, got, david, carr, thir...  \n",
       "1        [upset, update, facebook, texting, might, cry,...  \n",
       "2        [dived, many, time, ball, managed, save, 50, r...  \n",
       "3                   [whole, body, feel, itchy, like, fire]  \n",
       "4                                     [behaving, mad, see]  \n",
       "...                                                    ...  \n",
       "1599995                [woke, school, best, feeling, ever]  \n",
       "1599996    [thewdb, com, cool, hear, old, walt, interview]  \n",
       "1599997               [ready, mojo, makeover, ask, detail]  \n",
       "1599998  [happy, 38th, birthday, boo, alll, time, tupac...  \n",
       "1599999                                            [happy]  \n",
       "\n",
       "[1600000 rows x 4 columns]"
      ]
     },
     "execution_count": 72,
     "metadata": {},
     "output_type": "execute_result"
    }
   ],
   "source": [
    "training_data[\"Tokenized_tweets\"] = training_data[\"Tokenized_tweets\"].apply(lemmatizeWords)\n",
    "training_data"
   ]
  },
  {
   "cell_type": "code",
   "execution_count": 73,
   "id": "f2391524",
   "metadata": {},
   "outputs": [
    {
     "data": {
      "text/html": [
       "<div>\n",
       "<style scoped>\n",
       "    .dataframe tbody tr th:only-of-type {\n",
       "        vertical-align: middle;\n",
       "    }\n",
       "\n",
       "    .dataframe tbody tr th {\n",
       "        vertical-align: top;\n",
       "    }\n",
       "\n",
       "    .dataframe thead th {\n",
       "        text-align: right;\n",
       "    }\n",
       "</style>\n",
       "<table border=\"1\" class=\"dataframe\">\n",
       "  <thead>\n",
       "    <tr style=\"text-align: right;\">\n",
       "      <th></th>\n",
       "      <th>polarity</th>\n",
       "      <th>tweets</th>\n",
       "      <th>Clean_tweets</th>\n",
       "      <th>Tokenized_tweets</th>\n",
       "    </tr>\n",
       "  </thead>\n",
       "  <tbody>\n",
       "    <tr>\n",
       "      <th>0</th>\n",
       "      <td>-1</td>\n",
       "      <td>@switchfoot http://twitpic.com/2y1zl - Awww, t...</td>\n",
       "      <td>- awww, that's a bummer.  you shoulda got da...</td>\n",
       "      <td>[awww, bummer, shoulda, got, david, carr, thir...</td>\n",
       "    </tr>\n",
       "    <tr>\n",
       "      <th>1</th>\n",
       "      <td>-1</td>\n",
       "      <td>is upset that he can't update his Facebook by ...</td>\n",
       "      <td>is upset that he can't update his facebook by ...</td>\n",
       "      <td>[upset, updat, facebook, text, might, cri, res...</td>\n",
       "    </tr>\n",
       "    <tr>\n",
       "      <th>2</th>\n",
       "      <td>-1</td>\n",
       "      <td>@Kenichan I dived many times for the ball. Man...</td>\n",
       "      <td>i dived many times for the ball. managed to s...</td>\n",
       "      <td>[dive, mani, time, ball, manag, save, 50, rest...</td>\n",
       "    </tr>\n",
       "    <tr>\n",
       "      <th>3</th>\n",
       "      <td>-1</td>\n",
       "      <td>my whole body feels itchy and like its on fire</td>\n",
       "      <td>my whole body feels itchy and like its on fire</td>\n",
       "      <td>[whole, bodi, feel, itchi, like, fire]</td>\n",
       "    </tr>\n",
       "    <tr>\n",
       "      <th>4</th>\n",
       "      <td>-1</td>\n",
       "      <td>@nationwideclass no, it's not behaving at all....</td>\n",
       "      <td>no, it's not behaving at all. i'm mad. why am...</td>\n",
       "      <td>[behav, mad, see]</td>\n",
       "    </tr>\n",
       "    <tr>\n",
       "      <th>...</th>\n",
       "      <td>...</td>\n",
       "      <td>...</td>\n",
       "      <td>...</td>\n",
       "      <td>...</td>\n",
       "    </tr>\n",
       "    <tr>\n",
       "      <th>1599995</th>\n",
       "      <td>1</td>\n",
       "      <td>Just woke up. Having no school is the best fee...</td>\n",
       "      <td>just woke up. having no school is the best fee...</td>\n",
       "      <td>[woke, school, best, feel, ever]</td>\n",
       "    </tr>\n",
       "    <tr>\n",
       "      <th>1599996</th>\n",
       "      <td>1</td>\n",
       "      <td>TheWDB.com - Very cool to hear old Walt interv...</td>\n",
       "      <td>thewdb.com - very cool to hear old walt interv...</td>\n",
       "      <td>[thewdb, com, cool, hear, old, walt, interview]</td>\n",
       "    </tr>\n",
       "    <tr>\n",
       "      <th>1599997</th>\n",
       "      <td>1</td>\n",
       "      <td>Are you ready for your MoJo Makeover? Ask me f...</td>\n",
       "      <td>are you ready for your mojo makeover? ask me f...</td>\n",
       "      <td>[readi, mojo, makeov, ask, detail]</td>\n",
       "    </tr>\n",
       "    <tr>\n",
       "      <th>1599998</th>\n",
       "      <td>1</td>\n",
       "      <td>Happy 38th Birthday to my boo of alll time!!! ...</td>\n",
       "      <td>happy 38th birthday to my boo of alll time!!! ...</td>\n",
       "      <td>[happi, 38th, birthday, boo, alll, time, tupac...</td>\n",
       "    </tr>\n",
       "    <tr>\n",
       "      <th>1599999</th>\n",
       "      <td>1</td>\n",
       "      <td>happy #charitytuesday @theNSPCC @SparksCharity...</td>\n",
       "      <td>happy</td>\n",
       "      <td>[happi]</td>\n",
       "    </tr>\n",
       "  </tbody>\n",
       "</table>\n",
       "<p>1600000 rows × 4 columns</p>\n",
       "</div>"
      ],
      "text/plain": [
       "         polarity                                             tweets  \\\n",
       "0              -1  @switchfoot http://twitpic.com/2y1zl - Awww, t...   \n",
       "1              -1  is upset that he can't update his Facebook by ...   \n",
       "2              -1  @Kenichan I dived many times for the ball. Man...   \n",
       "3              -1    my whole body feels itchy and like its on fire    \n",
       "4              -1  @nationwideclass no, it's not behaving at all....   \n",
       "...           ...                                                ...   \n",
       "1599995         1  Just woke up. Having no school is the best fee...   \n",
       "1599996         1  TheWDB.com - Very cool to hear old Walt interv...   \n",
       "1599997         1  Are you ready for your MoJo Makeover? Ask me f...   \n",
       "1599998         1  Happy 38th Birthday to my boo of alll time!!! ...   \n",
       "1599999         1  happy #charitytuesday @theNSPCC @SparksCharity...   \n",
       "\n",
       "                                              Clean_tweets  \\\n",
       "0          - awww, that's a bummer.  you shoulda got da...   \n",
       "1        is upset that he can't update his facebook by ...   \n",
       "2         i dived many times for the ball. managed to s...   \n",
       "3          my whole body feels itchy and like its on fire    \n",
       "4         no, it's not behaving at all. i'm mad. why am...   \n",
       "...                                                    ...   \n",
       "1599995  just woke up. having no school is the best fee...   \n",
       "1599996  thewdb.com - very cool to hear old walt interv...   \n",
       "1599997  are you ready for your mojo makeover? ask me f...   \n",
       "1599998  happy 38th birthday to my boo of alll time!!! ...   \n",
       "1599999                                         happy        \n",
       "\n",
       "                                          Tokenized_tweets  \n",
       "0        [awww, bummer, shoulda, got, david, carr, thir...  \n",
       "1        [upset, updat, facebook, text, might, cri, res...  \n",
       "2        [dive, mani, time, ball, manag, save, 50, rest...  \n",
       "3                   [whole, bodi, feel, itchi, like, fire]  \n",
       "4                                        [behav, mad, see]  \n",
       "...                                                    ...  \n",
       "1599995                   [woke, school, best, feel, ever]  \n",
       "1599996    [thewdb, com, cool, hear, old, walt, interview]  \n",
       "1599997                 [readi, mojo, makeov, ask, detail]  \n",
       "1599998  [happi, 38th, birthday, boo, alll, time, tupac...  \n",
       "1599999                                            [happi]  \n",
       "\n",
       "[1600000 rows x 4 columns]"
      ]
     },
     "execution_count": 73,
     "metadata": {},
     "output_type": "execute_result"
    }
   ],
   "source": [
    "training_data[\"Tokenized_tweets\"] = training_data[\"Tokenized_tweets\"].apply(stemWords)\n",
    "training_data"
   ]
  },
  {
   "cell_type": "code",
   "execution_count": 74,
   "id": "fb53319f",
   "metadata": {},
   "outputs": [
    {
     "data": {
      "text/html": [
       "<div>\n",
       "<style scoped>\n",
       "    .dataframe tbody tr th:only-of-type {\n",
       "        vertical-align: middle;\n",
       "    }\n",
       "\n",
       "    .dataframe tbody tr th {\n",
       "        vertical-align: top;\n",
       "    }\n",
       "\n",
       "    .dataframe thead th {\n",
       "        text-align: right;\n",
       "    }\n",
       "</style>\n",
       "<table border=\"1\" class=\"dataframe\">\n",
       "  <thead>\n",
       "    <tr style=\"text-align: right;\">\n",
       "      <th></th>\n",
       "      <th>polarity</th>\n",
       "      <th>tweets</th>\n",
       "      <th>Clean_tweets</th>\n",
       "      <th>Tokenized_tweets</th>\n",
       "    </tr>\n",
       "  </thead>\n",
       "  <tbody>\n",
       "    <tr>\n",
       "      <th>0</th>\n",
       "      <td>-1</td>\n",
       "      <td>@switchfoot http://twitpic.com/2y1zl - Awww, t...</td>\n",
       "      <td>- awww, that's a bummer.  you shoulda got da...</td>\n",
       "      <td>[awww, bummer, shoulda, got, david, carr, thir...</td>\n",
       "    </tr>\n",
       "    <tr>\n",
       "      <th>1</th>\n",
       "      <td>-1</td>\n",
       "      <td>is upset that he can't update his Facebook by ...</td>\n",
       "      <td>is upset that he can't update his facebook by ...</td>\n",
       "      <td>[upset, updat, facebook, text, might, cri, res...</td>\n",
       "    </tr>\n",
       "    <tr>\n",
       "      <th>2</th>\n",
       "      <td>-1</td>\n",
       "      <td>@Kenichan I dived many times for the ball. Man...</td>\n",
       "      <td>i dived many times for the ball. managed to s...</td>\n",
       "      <td>[dive, mani, time, ball, manag, save, rest, go...</td>\n",
       "    </tr>\n",
       "    <tr>\n",
       "      <th>3</th>\n",
       "      <td>-1</td>\n",
       "      <td>my whole body feels itchy and like its on fire</td>\n",
       "      <td>my whole body feels itchy and like its on fire</td>\n",
       "      <td>[whole, bodi, feel, itchi, like, fire]</td>\n",
       "    </tr>\n",
       "    <tr>\n",
       "      <th>4</th>\n",
       "      <td>-1</td>\n",
       "      <td>@nationwideclass no, it's not behaving at all....</td>\n",
       "      <td>no, it's not behaving at all. i'm mad. why am...</td>\n",
       "      <td>[behav, mad, see]</td>\n",
       "    </tr>\n",
       "    <tr>\n",
       "      <th>...</th>\n",
       "      <td>...</td>\n",
       "      <td>...</td>\n",
       "      <td>...</td>\n",
       "      <td>...</td>\n",
       "    </tr>\n",
       "    <tr>\n",
       "      <th>1599995</th>\n",
       "      <td>1</td>\n",
       "      <td>Just woke up. Having no school is the best fee...</td>\n",
       "      <td>just woke up. having no school is the best fee...</td>\n",
       "      <td>[woke, school, best, feel, ever]</td>\n",
       "    </tr>\n",
       "    <tr>\n",
       "      <th>1599996</th>\n",
       "      <td>1</td>\n",
       "      <td>TheWDB.com - Very cool to hear old Walt interv...</td>\n",
       "      <td>thewdb.com - very cool to hear old walt interv...</td>\n",
       "      <td>[thewdb, com, cool, hear, old, walt, interview]</td>\n",
       "    </tr>\n",
       "    <tr>\n",
       "      <th>1599997</th>\n",
       "      <td>1</td>\n",
       "      <td>Are you ready for your MoJo Makeover? Ask me f...</td>\n",
       "      <td>are you ready for your mojo makeover? ask me f...</td>\n",
       "      <td>[readi, mojo, makeov, ask, detail]</td>\n",
       "    </tr>\n",
       "    <tr>\n",
       "      <th>1599998</th>\n",
       "      <td>1</td>\n",
       "      <td>Happy 38th Birthday to my boo of alll time!!! ...</td>\n",
       "      <td>happy 38th birthday to my boo of alll time!!! ...</td>\n",
       "      <td>[happi, 38th, birthday, boo, alll, time, tupac...</td>\n",
       "    </tr>\n",
       "    <tr>\n",
       "      <th>1599999</th>\n",
       "      <td>1</td>\n",
       "      <td>happy #charitytuesday @theNSPCC @SparksCharity...</td>\n",
       "      <td>happy</td>\n",
       "      <td>[happi]</td>\n",
       "    </tr>\n",
       "  </tbody>\n",
       "</table>\n",
       "<p>1600000 rows × 4 columns</p>\n",
       "</div>"
      ],
      "text/plain": [
       "         polarity                                             tweets  \\\n",
       "0              -1  @switchfoot http://twitpic.com/2y1zl - Awww, t...   \n",
       "1              -1  is upset that he can't update his Facebook by ...   \n",
       "2              -1  @Kenichan I dived many times for the ball. Man...   \n",
       "3              -1    my whole body feels itchy and like its on fire    \n",
       "4              -1  @nationwideclass no, it's not behaving at all....   \n",
       "...           ...                                                ...   \n",
       "1599995         1  Just woke up. Having no school is the best fee...   \n",
       "1599996         1  TheWDB.com - Very cool to hear old Walt interv...   \n",
       "1599997         1  Are you ready for your MoJo Makeover? Ask me f...   \n",
       "1599998         1  Happy 38th Birthday to my boo of alll time!!! ...   \n",
       "1599999         1  happy #charitytuesday @theNSPCC @SparksCharity...   \n",
       "\n",
       "                                              Clean_tweets  \\\n",
       "0          - awww, that's a bummer.  you shoulda got da...   \n",
       "1        is upset that he can't update his facebook by ...   \n",
       "2         i dived many times for the ball. managed to s...   \n",
       "3          my whole body feels itchy and like its on fire    \n",
       "4         no, it's not behaving at all. i'm mad. why am...   \n",
       "...                                                    ...   \n",
       "1599995  just woke up. having no school is the best fee...   \n",
       "1599996  thewdb.com - very cool to hear old walt interv...   \n",
       "1599997  are you ready for your mojo makeover? ask me f...   \n",
       "1599998  happy 38th birthday to my boo of alll time!!! ...   \n",
       "1599999                                         happy        \n",
       "\n",
       "                                          Tokenized_tweets  \n",
       "0        [awww, bummer, shoulda, got, david, carr, thir...  \n",
       "1        [upset, updat, facebook, text, might, cri, res...  \n",
       "2        [dive, mani, time, ball, manag, save, rest, go...  \n",
       "3                   [whole, bodi, feel, itchi, like, fire]  \n",
       "4                                        [behav, mad, see]  \n",
       "...                                                    ...  \n",
       "1599995                   [woke, school, best, feel, ever]  \n",
       "1599996    [thewdb, com, cool, hear, old, walt, interview]  \n",
       "1599997                 [readi, mojo, makeov, ask, detail]  \n",
       "1599998  [happi, 38th, birthday, boo, alll, time, tupac...  \n",
       "1599999                                            [happi]  \n",
       "\n",
       "[1600000 rows x 4 columns]"
      ]
     },
     "execution_count": 74,
     "metadata": {},
     "output_type": "execute_result"
    }
   ],
   "source": [
    "training_data[\"Tokenized_tweets\"] = training_data[\"Tokenized_tweets\"].apply(removeNumbers)\n",
    "training_data"
   ]
  },
  {
   "cell_type": "code",
   "execution_count": 76,
   "id": "fe2acf76",
   "metadata": {},
   "outputs": [
    {
     "data": {
      "text/html": [
       "<div>\n",
       "<style scoped>\n",
       "    .dataframe tbody tr th:only-of-type {\n",
       "        vertical-align: middle;\n",
       "    }\n",
       "\n",
       "    .dataframe tbody tr th {\n",
       "        vertical-align: top;\n",
       "    }\n",
       "\n",
       "    .dataframe thead th {\n",
       "        text-align: right;\n",
       "    }\n",
       "</style>\n",
       "<table border=\"1\" class=\"dataframe\">\n",
       "  <thead>\n",
       "    <tr style=\"text-align: right;\">\n",
       "      <th></th>\n",
       "      <th>polarity</th>\n",
       "      <th>tweets</th>\n",
       "      <th>Clean_tweets</th>\n",
       "      <th>Tokenized_tweets</th>\n",
       "    </tr>\n",
       "  </thead>\n",
       "  <tbody>\n",
       "    <tr>\n",
       "      <th>0</th>\n",
       "      <td>-1</td>\n",
       "      <td>@switchfoot http://twitpic.com/2y1zl - Awww, t...</td>\n",
       "      <td>- awww, that's a bummer.  you shoulda got da...</td>\n",
       "      <td>[(awww, JJ), (bummer, NN), (shoulda, NN), (got...</td>\n",
       "    </tr>\n",
       "    <tr>\n",
       "      <th>1</th>\n",
       "      <td>-1</td>\n",
       "      <td>is upset that he can't update his Facebook by ...</td>\n",
       "      <td>is upset that he can't update his facebook by ...</td>\n",
       "      <td>[(upset, JJ), (updat, JJ), (facebook, NN), (te...</td>\n",
       "    </tr>\n",
       "    <tr>\n",
       "      <th>2</th>\n",
       "      <td>-1</td>\n",
       "      <td>@Kenichan I dived many times for the ball. Man...</td>\n",
       "      <td>i dived many times for the ball. managed to s...</td>\n",
       "      <td>[(dive, JJ), (mani, NN), (time, NN), (ball, NN...</td>\n",
       "    </tr>\n",
       "    <tr>\n",
       "      <th>3</th>\n",
       "      <td>-1</td>\n",
       "      <td>my whole body feels itchy and like its on fire</td>\n",
       "      <td>my whole body feels itchy and like its on fire</td>\n",
       "      <td>[(whole, JJ), (bodi, NN), (feel, VB), (itchi, ...</td>\n",
       "    </tr>\n",
       "    <tr>\n",
       "      <th>4</th>\n",
       "      <td>-1</td>\n",
       "      <td>@nationwideclass no, it's not behaving at all....</td>\n",
       "      <td>no, it's not behaving at all. i'm mad. why am...</td>\n",
       "      <td>[(behav, NN), (mad, NNS), (see, VBP)]</td>\n",
       "    </tr>\n",
       "    <tr>\n",
       "      <th>...</th>\n",
       "      <td>...</td>\n",
       "      <td>...</td>\n",
       "      <td>...</td>\n",
       "      <td>...</td>\n",
       "    </tr>\n",
       "    <tr>\n",
       "      <th>1599995</th>\n",
       "      <td>1</td>\n",
       "      <td>Just woke up. Having no school is the best fee...</td>\n",
       "      <td>just woke up. having no school is the best fee...</td>\n",
       "      <td>[(woke, JJ), (school, NN), (best, JJS), (feel,...</td>\n",
       "    </tr>\n",
       "    <tr>\n",
       "      <th>1599996</th>\n",
       "      <td>1</td>\n",
       "      <td>TheWDB.com - Very cool to hear old Walt interv...</td>\n",
       "      <td>thewdb.com - very cool to hear old walt interv...</td>\n",
       "      <td>[(thewdb, NN), (com, NN), (cool, NN), (hear, V...</td>\n",
       "    </tr>\n",
       "    <tr>\n",
       "      <th>1599997</th>\n",
       "      <td>1</td>\n",
       "      <td>Are you ready for your MoJo Makeover? Ask me f...</td>\n",
       "      <td>are you ready for your mojo makeover? ask me f...</td>\n",
       "      <td>[(readi, NN), (mojo, NN), (makeov, NN), (ask, ...</td>\n",
       "    </tr>\n",
       "    <tr>\n",
       "      <th>1599998</th>\n",
       "      <td>1</td>\n",
       "      <td>Happy 38th Birthday to my boo of alll time!!! ...</td>\n",
       "      <td>happy 38th birthday to my boo of alll time!!! ...</td>\n",
       "      <td>[(happi, NN), (38th, CD), (birthday, NN), (boo...</td>\n",
       "    </tr>\n",
       "    <tr>\n",
       "      <th>1599999</th>\n",
       "      <td>1</td>\n",
       "      <td>happy #charitytuesday @theNSPCC @SparksCharity...</td>\n",
       "      <td>happy</td>\n",
       "      <td>[(happi, NN)]</td>\n",
       "    </tr>\n",
       "  </tbody>\n",
       "</table>\n",
       "<p>1600000 rows × 4 columns</p>\n",
       "</div>"
      ],
      "text/plain": [
       "         polarity                                             tweets  \\\n",
       "0              -1  @switchfoot http://twitpic.com/2y1zl - Awww, t...   \n",
       "1              -1  is upset that he can't update his Facebook by ...   \n",
       "2              -1  @Kenichan I dived many times for the ball. Man...   \n",
       "3              -1    my whole body feels itchy and like its on fire    \n",
       "4              -1  @nationwideclass no, it's not behaving at all....   \n",
       "...           ...                                                ...   \n",
       "1599995         1  Just woke up. Having no school is the best fee...   \n",
       "1599996         1  TheWDB.com - Very cool to hear old Walt interv...   \n",
       "1599997         1  Are you ready for your MoJo Makeover? Ask me f...   \n",
       "1599998         1  Happy 38th Birthday to my boo of alll time!!! ...   \n",
       "1599999         1  happy #charitytuesday @theNSPCC @SparksCharity...   \n",
       "\n",
       "                                              Clean_tweets  \\\n",
       "0          - awww, that's a bummer.  you shoulda got da...   \n",
       "1        is upset that he can't update his facebook by ...   \n",
       "2         i dived many times for the ball. managed to s...   \n",
       "3          my whole body feels itchy and like its on fire    \n",
       "4         no, it's not behaving at all. i'm mad. why am...   \n",
       "...                                                    ...   \n",
       "1599995  just woke up. having no school is the best fee...   \n",
       "1599996  thewdb.com - very cool to hear old walt interv...   \n",
       "1599997  are you ready for your mojo makeover? ask me f...   \n",
       "1599998  happy 38th birthday to my boo of alll time!!! ...   \n",
       "1599999                                         happy        \n",
       "\n",
       "                                          Tokenized_tweets  \n",
       "0        [(awww, JJ), (bummer, NN), (shoulda, NN), (got...  \n",
       "1        [(upset, JJ), (updat, JJ), (facebook, NN), (te...  \n",
       "2        [(dive, JJ), (mani, NN), (time, NN), (ball, NN...  \n",
       "3        [(whole, JJ), (bodi, NN), (feel, VB), (itchi, ...  \n",
       "4                    [(behav, NN), (mad, NNS), (see, VBP)]  \n",
       "...                                                    ...  \n",
       "1599995  [(woke, JJ), (school, NN), (best, JJS), (feel,...  \n",
       "1599996  [(thewdb, NN), (com, NN), (cool, NN), (hear, V...  \n",
       "1599997  [(readi, NN), (mojo, NN), (makeov, NN), (ask, ...  \n",
       "1599998  [(happi, NN), (38th, CD), (birthday, NN), (boo...  \n",
       "1599999                                      [(happi, NN)]  \n",
       "\n",
       "[1600000 rows x 4 columns]"
      ]
     },
     "execution_count": 76,
     "metadata": {},
     "output_type": "execute_result"
    }
   ],
   "source": [
    "training_data[\"Tokenized_tweets\"] = training_data[\"Tokenized_tweets\"].apply(nltk.pos_tag)\n",
    "training_data"
   ]
  },
  {
   "cell_type": "code",
   "execution_count": 77,
   "id": "da70dd3d",
   "metadata": {},
   "outputs": [
    {
     "data": {
      "text/html": [
       "<div>\n",
       "<style scoped>\n",
       "    .dataframe tbody tr th:only-of-type {\n",
       "        vertical-align: middle;\n",
       "    }\n",
       "\n",
       "    .dataframe tbody tr th {\n",
       "        vertical-align: top;\n",
       "    }\n",
       "\n",
       "    .dataframe thead th {\n",
       "        text-align: right;\n",
       "    }\n",
       "</style>\n",
       "<table border=\"1\" class=\"dataframe\">\n",
       "  <thead>\n",
       "    <tr style=\"text-align: right;\">\n",
       "      <th></th>\n",
       "      <th>polarity</th>\n",
       "      <th>tweets</th>\n",
       "      <th>Clean_tweets</th>\n",
       "      <th>Tokenized_tweets</th>\n",
       "    </tr>\n",
       "  </thead>\n",
       "  <tbody>\n",
       "    <tr>\n",
       "      <th>0</th>\n",
       "      <td>-1</td>\n",
       "      <td>@switchfoot http://twitpic.com/2y1zl - Awww, t...</td>\n",
       "      <td>- awww, that's a bummer.  you shoulda got da...</td>\n",
       "      <td>[awww/JJ, bummer/NN, shoulda/NN, got/VBD, davi...</td>\n",
       "    </tr>\n",
       "    <tr>\n",
       "      <th>1</th>\n",
       "      <td>-1</td>\n",
       "      <td>is upset that he can't update his Facebook by ...</td>\n",
       "      <td>is upset that he can't update his facebook by ...</td>\n",
       "      <td>[upset/JJ, updat/JJ, facebook/NN, text/NN, mig...</td>\n",
       "    </tr>\n",
       "    <tr>\n",
       "      <th>2</th>\n",
       "      <td>-1</td>\n",
       "      <td>@Kenichan I dived many times for the ball. Man...</td>\n",
       "      <td>i dived many times for the ball. managed to s...</td>\n",
       "      <td>[dive/JJ, mani/NN, time/NN, ball/NN, manag/NNS...</td>\n",
       "    </tr>\n",
       "    <tr>\n",
       "      <th>3</th>\n",
       "      <td>-1</td>\n",
       "      <td>my whole body feels itchy and like its on fire</td>\n",
       "      <td>my whole body feels itchy and like its on fire</td>\n",
       "      <td>[whole/JJ, bodi/NN, feel/VB, itchi/NNS, like/I...</td>\n",
       "    </tr>\n",
       "    <tr>\n",
       "      <th>4</th>\n",
       "      <td>-1</td>\n",
       "      <td>@nationwideclass no, it's not behaving at all....</td>\n",
       "      <td>no, it's not behaving at all. i'm mad. why am...</td>\n",
       "      <td>[behav/NN, mad/NNS, see/VBP]</td>\n",
       "    </tr>\n",
       "    <tr>\n",
       "      <th>...</th>\n",
       "      <td>...</td>\n",
       "      <td>...</td>\n",
       "      <td>...</td>\n",
       "      <td>...</td>\n",
       "    </tr>\n",
       "    <tr>\n",
       "      <th>1599995</th>\n",
       "      <td>1</td>\n",
       "      <td>Just woke up. Having no school is the best fee...</td>\n",
       "      <td>just woke up. having no school is the best fee...</td>\n",
       "      <td>[woke/JJ, school/NN, best/JJS, feel/NN, ever/RB]</td>\n",
       "    </tr>\n",
       "    <tr>\n",
       "      <th>1599996</th>\n",
       "      <td>1</td>\n",
       "      <td>TheWDB.com - Very cool to hear old Walt interv...</td>\n",
       "      <td>thewdb.com - very cool to hear old walt interv...</td>\n",
       "      <td>[thewdb/NN, com/NN, cool/NN, hear/VBP, old/JJ,...</td>\n",
       "    </tr>\n",
       "    <tr>\n",
       "      <th>1599997</th>\n",
       "      <td>1</td>\n",
       "      <td>Are you ready for your MoJo Makeover? Ask me f...</td>\n",
       "      <td>are you ready for your mojo makeover? ask me f...</td>\n",
       "      <td>[readi/NN, mojo/NN, makeov/NN, ask/NN, detail/NN]</td>\n",
       "    </tr>\n",
       "    <tr>\n",
       "      <th>1599998</th>\n",
       "      <td>1</td>\n",
       "      <td>Happy 38th Birthday to my boo of alll time!!! ...</td>\n",
       "      <td>happy 38th birthday to my boo of alll time!!! ...</td>\n",
       "      <td>[happi/NN, 38th/CD, birthday/NN, boo/VB, alll/...</td>\n",
       "    </tr>\n",
       "    <tr>\n",
       "      <th>1599999</th>\n",
       "      <td>1</td>\n",
       "      <td>happy #charitytuesday @theNSPCC @SparksCharity...</td>\n",
       "      <td>happy</td>\n",
       "      <td>[happi/NN]</td>\n",
       "    </tr>\n",
       "  </tbody>\n",
       "</table>\n",
       "<p>1600000 rows × 4 columns</p>\n",
       "</div>"
      ],
      "text/plain": [
       "         polarity                                             tweets  \\\n",
       "0              -1  @switchfoot http://twitpic.com/2y1zl - Awww, t...   \n",
       "1              -1  is upset that he can't update his Facebook by ...   \n",
       "2              -1  @Kenichan I dived many times for the ball. Man...   \n",
       "3              -1    my whole body feels itchy and like its on fire    \n",
       "4              -1  @nationwideclass no, it's not behaving at all....   \n",
       "...           ...                                                ...   \n",
       "1599995         1  Just woke up. Having no school is the best fee...   \n",
       "1599996         1  TheWDB.com - Very cool to hear old Walt interv...   \n",
       "1599997         1  Are you ready for your MoJo Makeover? Ask me f...   \n",
       "1599998         1  Happy 38th Birthday to my boo of alll time!!! ...   \n",
       "1599999         1  happy #charitytuesday @theNSPCC @SparksCharity...   \n",
       "\n",
       "                                              Clean_tweets  \\\n",
       "0          - awww, that's a bummer.  you shoulda got da...   \n",
       "1        is upset that he can't update his facebook by ...   \n",
       "2         i dived many times for the ball. managed to s...   \n",
       "3          my whole body feels itchy and like its on fire    \n",
       "4         no, it's not behaving at all. i'm mad. why am...   \n",
       "...                                                    ...   \n",
       "1599995  just woke up. having no school is the best fee...   \n",
       "1599996  thewdb.com - very cool to hear old walt interv...   \n",
       "1599997  are you ready for your mojo makeover? ask me f...   \n",
       "1599998  happy 38th birthday to my boo of alll time!!! ...   \n",
       "1599999                                         happy        \n",
       "\n",
       "                                          Tokenized_tweets  \n",
       "0        [awww/JJ, bummer/NN, shoulda/NN, got/VBD, davi...  \n",
       "1        [upset/JJ, updat/JJ, facebook/NN, text/NN, mig...  \n",
       "2        [dive/JJ, mani/NN, time/NN, ball/NN, manag/NNS...  \n",
       "3        [whole/JJ, bodi/NN, feel/VB, itchi/NNS, like/I...  \n",
       "4                             [behav/NN, mad/NNS, see/VBP]  \n",
       "...                                                    ...  \n",
       "1599995   [woke/JJ, school/NN, best/JJS, feel/NN, ever/RB]  \n",
       "1599996  [thewdb/NN, com/NN, cool/NN, hear/VBP, old/JJ,...  \n",
       "1599997  [readi/NN, mojo/NN, makeov/NN, ask/NN, detail/NN]  \n",
       "1599998  [happi/NN, 38th/CD, birthday/NN, boo/VB, alll/...  \n",
       "1599999                                         [happi/NN]  \n",
       "\n",
       "[1600000 rows x 4 columns]"
      ]
     },
     "execution_count": 77,
     "metadata": {},
     "output_type": "execute_result"
    }
   ],
   "source": [
    "training_data[\"Tokenized_tweets\"] = training_data[\"Tokenized_tweets\"].apply(flatener)\n",
    "training_data"
   ]
  },
  {
   "cell_type": "code",
   "execution_count": 78,
   "id": "3e817d95",
   "metadata": {},
   "outputs": [
    {
     "data": {
      "text/html": [
       "<div>\n",
       "<style scoped>\n",
       "    .dataframe tbody tr th:only-of-type {\n",
       "        vertical-align: middle;\n",
       "    }\n",
       "\n",
       "    .dataframe tbody tr th {\n",
       "        vertical-align: top;\n",
       "    }\n",
       "\n",
       "    .dataframe thead th {\n",
       "        text-align: right;\n",
       "    }\n",
       "</style>\n",
       "<table border=\"1\" class=\"dataframe\">\n",
       "  <thead>\n",
       "    <tr style=\"text-align: right;\">\n",
       "      <th></th>\n",
       "      <th>polarity</th>\n",
       "      <th>tweets</th>\n",
       "      <th>Clean_tweets</th>\n",
       "      <th>Tokenized_tweets</th>\n",
       "    </tr>\n",
       "  </thead>\n",
       "  <tbody>\n",
       "    <tr>\n",
       "      <th>0</th>\n",
       "      <td>-1</td>\n",
       "      <td>@switchfoot http://twitpic.com/2y1zl - Awww, t...</td>\n",
       "      <td>- awww, that's a bummer.  you shoulda got da...</td>\n",
       "      <td>awww/JJ bummer/NN shoulda/NN got/VBD david/JJ ...</td>\n",
       "    </tr>\n",
       "    <tr>\n",
       "      <th>1</th>\n",
       "      <td>-1</td>\n",
       "      <td>is upset that he can't update his Facebook by ...</td>\n",
       "      <td>is upset that he can't update his facebook by ...</td>\n",
       "      <td>upset/JJ updat/JJ facebook/NN text/NN might/MD...</td>\n",
       "    </tr>\n",
       "    <tr>\n",
       "      <th>2</th>\n",
       "      <td>-1</td>\n",
       "      <td>@Kenichan I dived many times for the ball. Man...</td>\n",
       "      <td>i dived many times for the ball. managed to s...</td>\n",
       "      <td>dive/JJ mani/NN time/NN ball/NN manag/NNS save...</td>\n",
       "    </tr>\n",
       "    <tr>\n",
       "      <th>3</th>\n",
       "      <td>-1</td>\n",
       "      <td>my whole body feels itchy and like its on fire</td>\n",
       "      <td>my whole body feels itchy and like its on fire</td>\n",
       "      <td>whole/JJ bodi/NN feel/VB itchi/NNS like/IN fir...</td>\n",
       "    </tr>\n",
       "    <tr>\n",
       "      <th>4</th>\n",
       "      <td>-1</td>\n",
       "      <td>@nationwideclass no, it's not behaving at all....</td>\n",
       "      <td>no, it's not behaving at all. i'm mad. why am...</td>\n",
       "      <td>behav/NN mad/NNS see/VBP</td>\n",
       "    </tr>\n",
       "    <tr>\n",
       "      <th>...</th>\n",
       "      <td>...</td>\n",
       "      <td>...</td>\n",
       "      <td>...</td>\n",
       "      <td>...</td>\n",
       "    </tr>\n",
       "    <tr>\n",
       "      <th>1599995</th>\n",
       "      <td>1</td>\n",
       "      <td>Just woke up. Having no school is the best fee...</td>\n",
       "      <td>just woke up. having no school is the best fee...</td>\n",
       "      <td>woke/JJ school/NN best/JJS feel/NN ever/RB</td>\n",
       "    </tr>\n",
       "    <tr>\n",
       "      <th>1599996</th>\n",
       "      <td>1</td>\n",
       "      <td>TheWDB.com - Very cool to hear old Walt interv...</td>\n",
       "      <td>thewdb.com - very cool to hear old walt interv...</td>\n",
       "      <td>thewdb/NN com/NN cool/NN hear/VBP old/JJ walt/...</td>\n",
       "    </tr>\n",
       "    <tr>\n",
       "      <th>1599997</th>\n",
       "      <td>1</td>\n",
       "      <td>Are you ready for your MoJo Makeover? Ask me f...</td>\n",
       "      <td>are you ready for your mojo makeover? ask me f...</td>\n",
       "      <td>readi/NN mojo/NN makeov/NN ask/NN detail/NN</td>\n",
       "    </tr>\n",
       "    <tr>\n",
       "      <th>1599998</th>\n",
       "      <td>1</td>\n",
       "      <td>Happy 38th Birthday to my boo of alll time!!! ...</td>\n",
       "      <td>happy 38th birthday to my boo of alll time!!! ...</td>\n",
       "      <td>happi/NN 38th/CD birthday/NN boo/VB alll/JJ ti...</td>\n",
       "    </tr>\n",
       "    <tr>\n",
       "      <th>1599999</th>\n",
       "      <td>1</td>\n",
       "      <td>happy #charitytuesday @theNSPCC @SparksCharity...</td>\n",
       "      <td>happy</td>\n",
       "      <td>happi/NN</td>\n",
       "    </tr>\n",
       "  </tbody>\n",
       "</table>\n",
       "<p>1600000 rows × 4 columns</p>\n",
       "</div>"
      ],
      "text/plain": [
       "         polarity                                             tweets  \\\n",
       "0              -1  @switchfoot http://twitpic.com/2y1zl - Awww, t...   \n",
       "1              -1  is upset that he can't update his Facebook by ...   \n",
       "2              -1  @Kenichan I dived many times for the ball. Man...   \n",
       "3              -1    my whole body feels itchy and like its on fire    \n",
       "4              -1  @nationwideclass no, it's not behaving at all....   \n",
       "...           ...                                                ...   \n",
       "1599995         1  Just woke up. Having no school is the best fee...   \n",
       "1599996         1  TheWDB.com - Very cool to hear old Walt interv...   \n",
       "1599997         1  Are you ready for your MoJo Makeover? Ask me f...   \n",
       "1599998         1  Happy 38th Birthday to my boo of alll time!!! ...   \n",
       "1599999         1  happy #charitytuesday @theNSPCC @SparksCharity...   \n",
       "\n",
       "                                              Clean_tweets  \\\n",
       "0          - awww, that's a bummer.  you shoulda got da...   \n",
       "1        is upset that he can't update his facebook by ...   \n",
       "2         i dived many times for the ball. managed to s...   \n",
       "3          my whole body feels itchy and like its on fire    \n",
       "4         no, it's not behaving at all. i'm mad. why am...   \n",
       "...                                                    ...   \n",
       "1599995  just woke up. having no school is the best fee...   \n",
       "1599996  thewdb.com - very cool to hear old walt interv...   \n",
       "1599997  are you ready for your mojo makeover? ask me f...   \n",
       "1599998  happy 38th birthday to my boo of alll time!!! ...   \n",
       "1599999                                         happy        \n",
       "\n",
       "                                          Tokenized_tweets  \n",
       "0        awww/JJ bummer/NN shoulda/NN got/VBD david/JJ ...  \n",
       "1        upset/JJ updat/JJ facebook/NN text/NN might/MD...  \n",
       "2        dive/JJ mani/NN time/NN ball/NN manag/NNS save...  \n",
       "3        whole/JJ bodi/NN feel/VB itchi/NNS like/IN fir...  \n",
       "4                                 behav/NN mad/NNS see/VBP  \n",
       "...                                                    ...  \n",
       "1599995         woke/JJ school/NN best/JJS feel/NN ever/RB  \n",
       "1599996  thewdb/NN com/NN cool/NN hear/VBP old/JJ walt/...  \n",
       "1599997        readi/NN mojo/NN makeov/NN ask/NN detail/NN  \n",
       "1599998  happi/NN 38th/CD birthday/NN boo/VB alll/JJ ti...  \n",
       "1599999                                           happi/NN  \n",
       "\n",
       "[1600000 rows x 4 columns]"
      ]
     },
     "execution_count": 78,
     "metadata": {},
     "output_type": "execute_result"
    }
   ],
   "source": [
    "training_data[\"Tokenized_tweets\"] = training_data[\"Tokenized_tweets\"].apply(detokenizer)\n",
    "training_data"
   ]
  },
  {
   "cell_type": "code",
   "execution_count": 79,
   "id": "bfc12b99",
   "metadata": {},
   "outputs": [],
   "source": [
    "X = training_data[\"Tokenized_tweets\"]  \n",
    "y = training_data[\"polarity\"].astype('int')  \n",
    "X_train, X_test, y_train, y_test = train_test_split(X, y, test_size=0.2, random_state=42, stratify=y)"
   ]
  },
  {
   "cell_type": "code",
   "execution_count": 96,
   "id": "43a0206c",
   "metadata": {},
   "outputs": [],
   "source": [
    "uniSVM = Pipeline([\n",
    "    ('tfidf', TfidfVectorizer(ngram_range=(1, 1))), \n",
    "    ('SVM', LinearSVC(C=0.1))\n",
    "])\n",
    "biSVM = Pipeline([\n",
    "    ('tfidf', TfidfVectorizer(ngram_range=(2, 2))), \n",
    "    ('SVM', LinearSVC(C=0.1))\n",
    "])\n",
    "uniBiSVM = Pipeline([\n",
    "    ('tfidf', TfidfVectorizer(ngram_range=(1, 2))), \n",
    "    ('SVM', LinearSVC(C=0.2))\n",
    "])"
   ]
  },
  {
   "cell_type": "code",
   "execution_count": 97,
   "id": "8de66e6c",
   "metadata": {},
   "outputs": [
    {
     "data": {
      "text/plain": [
       "0.773946875"
      ]
     },
     "execution_count": 97,
     "metadata": {},
     "output_type": "execute_result"
    }
   ],
   "source": [
    "uniSVM.fit(X_train, y_train)\n",
    "uniSVM.score(X_test, y_test)"
   ]
  },
  {
   "cell_type": "code",
   "execution_count": 98,
   "id": "20cf268f",
   "metadata": {},
   "outputs": [
    {
     "data": {
      "text/plain": [
       "0.7752"
      ]
     },
     "execution_count": 98,
     "metadata": {},
     "output_type": "execute_result"
    }
   ],
   "source": [
    "biSVM.fit(X_train, y_train)\n",
    "biSVM.score(X_test, y_test)"
   ]
  },
  {
   "cell_type": "code",
   "execution_count": 99,
   "id": "75117439",
   "metadata": {},
   "outputs": [
    {
     "data": {
      "text/plain": [
       "0.775825"
      ]
     },
     "execution_count": 99,
     "metadata": {},
     "output_type": "execute_result"
    }
   ],
   "source": [
    "uniBiSVM.fit(X_train, y_train)\n",
    "uniBiSVM.score(X_test, y_test)"
   ]
  },
  {
   "cell_type": "code",
   "execution_count": 95,
   "id": "3e43558f",
   "metadata": {},
   "outputs": [
    {
     "data": {
      "text/plain": [
       " 1    800000\n",
       "-1    800000\n",
       "Name: polarity, dtype: int64"
      ]
     },
     "execution_count": 95,
     "metadata": {},
     "output_type": "execute_result"
    }
   ],
   "source": [
    "training_data[\"polarity\"].value_counts()"
   ]
  },
  {
   "cell_type": "code",
   "execution_count": 100,
   "id": "25f625d7",
   "metadata": {},
   "outputs": [
    {
     "data": {
      "text/plain": [
       "0.822340625"
      ]
     },
     "execution_count": 100,
     "metadata": {},
     "output_type": "execute_result"
    }
   ],
   "source": [
    "uniBiSVM.score(X_train, y_train)"
   ]
  },
  {
   "cell_type": "code",
   "execution_count": 103,
   "id": "abf09341",
   "metadata": {},
   "outputs": [
    {
     "name": "stdout",
     "output_type": "stream",
     "text": [
      "              precision    recall  f1-score   support\n",
      "\n",
      "          -1       0.79      0.75      0.77    160000\n",
      "           1       0.76      0.80      0.78    160000\n",
      "\n",
      "    accuracy                           0.77    320000\n",
      "   macro avg       0.77      0.77      0.77    320000\n",
      "weighted avg       0.77      0.77      0.77    320000\n",
      "\n",
      "[[120031  39969]\n",
      " [ 32368 127632]]\n"
     ]
    }
   ],
   "source": [
    "y_pred = uniSVM.predict(X_test)\n",
    "print(classification_report(y_test,y_pred))\n",
    "print(confusion_matrix(y_test,y_pred))"
   ]
  },
  {
   "cell_type": "code",
   "execution_count": 105,
   "id": "db458b14",
   "metadata": {},
   "outputs": [
    {
     "name": "stdout",
     "output_type": "stream",
     "text": [
      "              precision    recall  f1-score   support\n",
      "\n",
      "          -1       0.79      0.75      0.77    160000\n",
      "           1       0.76      0.80      0.78    160000\n",
      "\n",
      "    accuracy                           0.78    320000\n",
      "   macro avg       0.78      0.78      0.78    320000\n",
      "weighted avg       0.78      0.78      0.78    320000\n",
      "\n",
      "[[120435  39565]\n",
      " [ 32371 127629]]\n"
     ]
    }
   ],
   "source": [
    "y_pred = biSVM.predict(X_test)\n",
    "print(classification_report(y_test,y_pred))\n",
    "print(confusion_matrix(y_test,y_pred))"
   ]
  },
  {
   "cell_type": "code",
   "execution_count": 106,
   "id": "60c5a036",
   "metadata": {},
   "outputs": [
    {
     "name": "stdout",
     "output_type": "stream",
     "text": [
      "              precision    recall  f1-score   support\n",
      "\n",
      "          -1       0.79      0.76      0.77    160000\n",
      "           1       0.77      0.80      0.78    160000\n",
      "\n",
      "    accuracy                           0.78    320000\n",
      "   macro avg       0.78      0.78      0.78    320000\n",
      "weighted avg       0.78      0.78      0.78    320000\n",
      "\n",
      "[[120992  39008]\n",
      " [ 32728 127272]]\n"
     ]
    }
   ],
   "source": [
    "y_pred = uniBiSVM.predict(X_test)\n",
    "print(classification_report(y_test,y_pred))\n",
    "print(confusion_matrix(y_test,y_pred))"
   ]
  },
  {
   "cell_type": "markdown",
   "id": "1ea625b4",
   "metadata": {},
   "source": [
    "# Amazon Review database"
   ]
  },
  {
   "cell_type": "markdown",
   "id": "d7933c65",
   "metadata": {},
   "source": [
    "- delete reviews with a score = 3\n",
    "- transform score from {1,2} to -1 and {4,5} to 1 "
   ]
  },
  {
   "cell_type": "code",
   "execution_count": 24,
   "id": "b018e00c",
   "metadata": {},
   "outputs": [
    {
     "data": {
      "text/html": [
       "<div>\n",
       "<style scoped>\n",
       "    .dataframe tbody tr th:only-of-type {\n",
       "        vertical-align: middle;\n",
       "    }\n",
       "\n",
       "    .dataframe tbody tr th {\n",
       "        vertical-align: top;\n",
       "    }\n",
       "\n",
       "    .dataframe thead th {\n",
       "        text-align: right;\n",
       "    }\n",
       "</style>\n",
       "<table border=\"1\" class=\"dataframe\">\n",
       "  <thead>\n",
       "    <tr style=\"text-align: right;\">\n",
       "      <th></th>\n",
       "      <th>Id</th>\n",
       "      <th>ProductId</th>\n",
       "      <th>UserId</th>\n",
       "      <th>ProfileName</th>\n",
       "      <th>HelpfulnessNumerator</th>\n",
       "      <th>HelpfulnessDenominator</th>\n",
       "      <th>Score</th>\n",
       "      <th>Time</th>\n",
       "      <th>Summary</th>\n",
       "      <th>Text</th>\n",
       "    </tr>\n",
       "  </thead>\n",
       "  <tbody>\n",
       "    <tr>\n",
       "      <th>0</th>\n",
       "      <td>1</td>\n",
       "      <td>B001E4KFG0</td>\n",
       "      <td>A3SGXH7AUHU8GW</td>\n",
       "      <td>delmartian</td>\n",
       "      <td>1</td>\n",
       "      <td>1</td>\n",
       "      <td>5</td>\n",
       "      <td>1303862400</td>\n",
       "      <td>Good Quality Dog Food</td>\n",
       "      <td>I have bought several of the Vitality canned d...</td>\n",
       "    </tr>\n",
       "    <tr>\n",
       "      <th>1</th>\n",
       "      <td>2</td>\n",
       "      <td>B00813GRG4</td>\n",
       "      <td>A1D87F6ZCVE5NK</td>\n",
       "      <td>dll pa</td>\n",
       "      <td>0</td>\n",
       "      <td>0</td>\n",
       "      <td>1</td>\n",
       "      <td>1346976000</td>\n",
       "      <td>Not as Advertised</td>\n",
       "      <td>Product arrived labeled as Jumbo Salted Peanut...</td>\n",
       "    </tr>\n",
       "    <tr>\n",
       "      <th>2</th>\n",
       "      <td>3</td>\n",
       "      <td>B000LQOCH0</td>\n",
       "      <td>ABXLMWJIXXAIN</td>\n",
       "      <td>Natalia Corres \"Natalia Corres\"</td>\n",
       "      <td>1</td>\n",
       "      <td>1</td>\n",
       "      <td>4</td>\n",
       "      <td>1219017600</td>\n",
       "      <td>\"Delight\" says it all</td>\n",
       "      <td>This is a confection that has been around a fe...</td>\n",
       "    </tr>\n",
       "    <tr>\n",
       "      <th>3</th>\n",
       "      <td>4</td>\n",
       "      <td>B000UA0QIQ</td>\n",
       "      <td>A395BORC6FGVXV</td>\n",
       "      <td>Karl</td>\n",
       "      <td>3</td>\n",
       "      <td>3</td>\n",
       "      <td>2</td>\n",
       "      <td>1307923200</td>\n",
       "      <td>Cough Medicine</td>\n",
       "      <td>If you are looking for the secret ingredient i...</td>\n",
       "    </tr>\n",
       "    <tr>\n",
       "      <th>4</th>\n",
       "      <td>5</td>\n",
       "      <td>B006K2ZZ7K</td>\n",
       "      <td>A1UQRSCLF8GW1T</td>\n",
       "      <td>Michael D. Bigham \"M. Wassir\"</td>\n",
       "      <td>0</td>\n",
       "      <td>0</td>\n",
       "      <td>5</td>\n",
       "      <td>1350777600</td>\n",
       "      <td>Great taffy</td>\n",
       "      <td>Great taffy at a great price.  There was a wid...</td>\n",
       "    </tr>\n",
       "  </tbody>\n",
       "</table>\n",
       "</div>"
      ],
      "text/plain": [
       "   Id   ProductId          UserId                      ProfileName  \\\n",
       "0   1  B001E4KFG0  A3SGXH7AUHU8GW                       delmartian   \n",
       "1   2  B00813GRG4  A1D87F6ZCVE5NK                           dll pa   \n",
       "2   3  B000LQOCH0   ABXLMWJIXXAIN  Natalia Corres \"Natalia Corres\"   \n",
       "3   4  B000UA0QIQ  A395BORC6FGVXV                             Karl   \n",
       "4   5  B006K2ZZ7K  A1UQRSCLF8GW1T    Michael D. Bigham \"M. Wassir\"   \n",
       "\n",
       "   HelpfulnessNumerator  HelpfulnessDenominator  Score        Time  \\\n",
       "0                     1                       1      5  1303862400   \n",
       "1                     0                       0      1  1346976000   \n",
       "2                     1                       1      4  1219017600   \n",
       "3                     3                       3      2  1307923200   \n",
       "4                     0                       0      5  1350777600   \n",
       "\n",
       "                 Summary                                               Text  \n",
       "0  Good Quality Dog Food  I have bought several of the Vitality canned d...  \n",
       "1      Not as Advertised  Product arrived labeled as Jumbo Salted Peanut...  \n",
       "2  \"Delight\" says it all  This is a confection that has been around a fe...  \n",
       "3         Cough Medicine  If you are looking for the secret ingredient i...  \n",
       "4            Great taffy  Great taffy at a great price.  There was a wid...  "
      ]
     },
     "execution_count": 24,
     "metadata": {},
     "output_type": "execute_result"
    }
   ],
   "source": [
    "training_data = pd.read_csv(\"./Amazon reviews/Reviews.csv\")\n",
    "training_data.head(5)"
   ]
  },
  {
   "cell_type": "code",
   "execution_count": 25,
   "id": "022c82c6",
   "metadata": {},
   "outputs": [],
   "source": [
    "training_data = training_data.drop( columns = [\"Id\", \"ProductId\", \"UserId\", \"ProfileName\", \"HelpfulnessNumerator\",\"HelpfulnessDenominator\", \"Time\", \"Summary\"])"
   ]
  },
  {
   "cell_type": "code",
   "execution_count": 26,
   "id": "14cf693e",
   "metadata": {},
   "outputs": [
    {
     "data": {
      "text/plain": [
       " 1    486417\n",
       "-1     82037\n",
       "Name: Score, dtype: int64"
      ]
     },
     "execution_count": 26,
     "metadata": {},
     "output_type": "execute_result"
    }
   ],
   "source": [
    "training_data[\"Score\"] = training_data[training_data[\"Score\"]!=3]\n",
    "training_data[\"Score\"] = training_data[\"Score\"].apply(reduceScore)\n",
    "training_data[\"Score\"].value_counts()"
   ]
  },
  {
   "cell_type": "code",
   "execution_count": 27,
   "id": "fc9fc899",
   "metadata": {},
   "outputs": [
    {
     "data": {
      "text/html": [
       "<div>\n",
       "<style scoped>\n",
       "    .dataframe tbody tr th:only-of-type {\n",
       "        vertical-align: middle;\n",
       "    }\n",
       "\n",
       "    .dataframe tbody tr th {\n",
       "        vertical-align: top;\n",
       "    }\n",
       "\n",
       "    .dataframe thead th {\n",
       "        text-align: right;\n",
       "    }\n",
       "</style>\n",
       "<table border=\"1\" class=\"dataframe\">\n",
       "  <thead>\n",
       "    <tr style=\"text-align: right;\">\n",
       "      <th></th>\n",
       "      <th>Score</th>\n",
       "      <th>Text</th>\n",
       "    </tr>\n",
       "  </thead>\n",
       "  <tbody>\n",
       "    <tr>\n",
       "      <th>0</th>\n",
       "      <td>1</td>\n",
       "      <td>i have bought several of the vitality canned d...</td>\n",
       "    </tr>\n",
       "    <tr>\n",
       "      <th>1</th>\n",
       "      <td>-1</td>\n",
       "      <td>product arrived labeled as jumbo salted peanut...</td>\n",
       "    </tr>\n",
       "    <tr>\n",
       "      <th>2</th>\n",
       "      <td>1</td>\n",
       "      <td>this is a confection that has been around a fe...</td>\n",
       "    </tr>\n",
       "    <tr>\n",
       "      <th>3</th>\n",
       "      <td>-1</td>\n",
       "      <td>if you are looking for the secret ingredient i...</td>\n",
       "    </tr>\n",
       "    <tr>\n",
       "      <th>4</th>\n",
       "      <td>1</td>\n",
       "      <td>great taffy at a great price  there was a wide...</td>\n",
       "    </tr>\n",
       "    <tr>\n",
       "      <th>...</th>\n",
       "      <td>...</td>\n",
       "      <td>...</td>\n",
       "    </tr>\n",
       "    <tr>\n",
       "      <th>568449</th>\n",
       "      <td>1</td>\n",
       "      <td>great for sesame chickenthis is a good if not ...</td>\n",
       "    </tr>\n",
       "    <tr>\n",
       "      <th>568450</th>\n",
       "      <td>-1</td>\n",
       "      <td>im disappointed with the flavor the chocolate ...</td>\n",
       "    </tr>\n",
       "    <tr>\n",
       "      <th>568451</th>\n",
       "      <td>1</td>\n",
       "      <td>these stars are small so you can give  of thos...</td>\n",
       "    </tr>\n",
       "    <tr>\n",
       "      <th>568452</th>\n",
       "      <td>1</td>\n",
       "      <td>these are the best treats for training and rew...</td>\n",
       "    </tr>\n",
       "    <tr>\n",
       "      <th>568453</th>\n",
       "      <td>1</td>\n",
       "      <td>i am very satisfied product is as advertised i...</td>\n",
       "    </tr>\n",
       "  </tbody>\n",
       "</table>\n",
       "<p>568454 rows × 2 columns</p>\n",
       "</div>"
      ],
      "text/plain": [
       "        Score                                               Text\n",
       "0           1  i have bought several of the vitality canned d...\n",
       "1          -1  product arrived labeled as jumbo salted peanut...\n",
       "2           1  this is a confection that has been around a fe...\n",
       "3          -1  if you are looking for the secret ingredient i...\n",
       "4           1  great taffy at a great price  there was a wide...\n",
       "...       ...                                                ...\n",
       "568449      1  great for sesame chickenthis is a good if not ...\n",
       "568450     -1  im disappointed with the flavor the chocolate ...\n",
       "568451      1  these stars are small so you can give  of thos...\n",
       "568452      1  these are the best treats for training and rew...\n",
       "568453      1  i am very satisfied product is as advertised i...\n",
       "\n",
       "[568454 rows x 2 columns]"
      ]
     },
     "execution_count": 27,
     "metadata": {},
     "output_type": "execute_result"
    }
   ],
   "source": [
    "training_data[\"Text\"] = training_data[\"Text\"].apply(clean_text)\n",
    "training_data"
   ]
  },
  {
   "cell_type": "code",
   "execution_count": 29,
   "id": "0503b43e",
   "metadata": {},
   "outputs": [
    {
     "data": {
      "text/html": [
       "<div>\n",
       "<style scoped>\n",
       "    .dataframe tbody tr th:only-of-type {\n",
       "        vertical-align: middle;\n",
       "    }\n",
       "\n",
       "    .dataframe tbody tr th {\n",
       "        vertical-align: top;\n",
       "    }\n",
       "\n",
       "    .dataframe thead th {\n",
       "        text-align: right;\n",
       "    }\n",
       "</style>\n",
       "<table border=\"1\" class=\"dataframe\">\n",
       "  <thead>\n",
       "    <tr style=\"text-align: right;\">\n",
       "      <th></th>\n",
       "      <th>Score</th>\n",
       "      <th>Text</th>\n",
       "    </tr>\n",
       "  </thead>\n",
       "  <tbody>\n",
       "    <tr>\n",
       "      <th>0</th>\n",
       "      <td>1</td>\n",
       "      <td>[i, have, bought, several, of, the, vitality, ...</td>\n",
       "    </tr>\n",
       "    <tr>\n",
       "      <th>1</th>\n",
       "      <td>-1</td>\n",
       "      <td>[product, arrived, labeled, as, jumbo, salted,...</td>\n",
       "    </tr>\n",
       "    <tr>\n",
       "      <th>2</th>\n",
       "      <td>1</td>\n",
       "      <td>[this, is, a, confection, that, has, been, aro...</td>\n",
       "    </tr>\n",
       "    <tr>\n",
       "      <th>3</th>\n",
       "      <td>-1</td>\n",
       "      <td>[if, you, are, looking, for, the, secret, ingr...</td>\n",
       "    </tr>\n",
       "    <tr>\n",
       "      <th>4</th>\n",
       "      <td>1</td>\n",
       "      <td>[great, taffy, at, a, great, price, there, was...</td>\n",
       "    </tr>\n",
       "    <tr>\n",
       "      <th>...</th>\n",
       "      <td>...</td>\n",
       "      <td>...</td>\n",
       "    </tr>\n",
       "    <tr>\n",
       "      <th>568449</th>\n",
       "      <td>1</td>\n",
       "      <td>[great, for, sesame, chickenthis, is, a, good,...</td>\n",
       "    </tr>\n",
       "    <tr>\n",
       "      <th>568450</th>\n",
       "      <td>-1</td>\n",
       "      <td>[im, disappointed, with, the, flavor, the, cho...</td>\n",
       "    </tr>\n",
       "    <tr>\n",
       "      <th>568451</th>\n",
       "      <td>1</td>\n",
       "      <td>[these, stars, are, small, so, you, can, give,...</td>\n",
       "    </tr>\n",
       "    <tr>\n",
       "      <th>568452</th>\n",
       "      <td>1</td>\n",
       "      <td>[these, are, the, best, treats, for, training,...</td>\n",
       "    </tr>\n",
       "    <tr>\n",
       "      <th>568453</th>\n",
       "      <td>1</td>\n",
       "      <td>[i, am, very, satisfied, product, is, as, adve...</td>\n",
       "    </tr>\n",
       "  </tbody>\n",
       "</table>\n",
       "<p>568454 rows × 2 columns</p>\n",
       "</div>"
      ],
      "text/plain": [
       "        Score                                               Text\n",
       "0           1  [i, have, bought, several, of, the, vitality, ...\n",
       "1          -1  [product, arrived, labeled, as, jumbo, salted,...\n",
       "2           1  [this, is, a, confection, that, has, been, aro...\n",
       "3          -1  [if, you, are, looking, for, the, secret, ingr...\n",
       "4           1  [great, taffy, at, a, great, price, there, was...\n",
       "...       ...                                                ...\n",
       "568449      1  [great, for, sesame, chickenthis, is, a, good,...\n",
       "568450     -1  [im, disappointed, with, the, flavor, the, cho...\n",
       "568451      1  [these, stars, are, small, so, you, can, give,...\n",
       "568452      1  [these, are, the, best, treats, for, training,...\n",
       "568453      1  [i, am, very, satisfied, product, is, as, adve...\n",
       "\n",
       "[568454 rows x 2 columns]"
      ]
     },
     "execution_count": 29,
     "metadata": {},
     "output_type": "execute_result"
    }
   ],
   "source": [
    "training_data[\"Text\"] = training_data[\"Text\"].apply(tokenizer.tokenize)\n",
    "training_data"
   ]
  },
  {
   "cell_type": "code",
   "execution_count": 30,
   "id": "274c1441",
   "metadata": {},
   "outputs": [
    {
     "data": {
      "text/html": [
       "<div>\n",
       "<style scoped>\n",
       "    .dataframe tbody tr th:only-of-type {\n",
       "        vertical-align: middle;\n",
       "    }\n",
       "\n",
       "    .dataframe tbody tr th {\n",
       "        vertical-align: top;\n",
       "    }\n",
       "\n",
       "    .dataframe thead th {\n",
       "        text-align: right;\n",
       "    }\n",
       "</style>\n",
       "<table border=\"1\" class=\"dataframe\">\n",
       "  <thead>\n",
       "    <tr style=\"text-align: right;\">\n",
       "      <th></th>\n",
       "      <th>Score</th>\n",
       "      <th>Text</th>\n",
       "    </tr>\n",
       "  </thead>\n",
       "  <tbody>\n",
       "    <tr>\n",
       "      <th>0</th>\n",
       "      <td>1</td>\n",
       "      <td>[bought, several, vitality, canned, dog, food,...</td>\n",
       "    </tr>\n",
       "    <tr>\n",
       "      <th>1</th>\n",
       "      <td>-1</td>\n",
       "      <td>[product, arrived, labeled, jumbo, salted, pea...</td>\n",
       "    </tr>\n",
       "    <tr>\n",
       "      <th>2</th>\n",
       "      <td>1</td>\n",
       "      <td>[confection, around, centuries, light, pillowy...</td>\n",
       "    </tr>\n",
       "    <tr>\n",
       "      <th>3</th>\n",
       "      <td>-1</td>\n",
       "      <td>[looking, secret, ingredient, robitussin, beli...</td>\n",
       "    </tr>\n",
       "    <tr>\n",
       "      <th>4</th>\n",
       "      <td>1</td>\n",
       "      <td>[great, taffy, great, price, wide, assortment,...</td>\n",
       "    </tr>\n",
       "    <tr>\n",
       "      <th>...</th>\n",
       "      <td>...</td>\n",
       "      <td>...</td>\n",
       "    </tr>\n",
       "    <tr>\n",
       "      <th>568449</th>\n",
       "      <td>1</td>\n",
       "      <td>[great, sesame, chickenthis, good, better, res...</td>\n",
       "    </tr>\n",
       "    <tr>\n",
       "      <th>568450</th>\n",
       "      <td>-1</td>\n",
       "      <td>[im, disappointed, flavor, chocolate, notes, e...</td>\n",
       "    </tr>\n",
       "    <tr>\n",
       "      <th>568451</th>\n",
       "      <td>1</td>\n",
       "      <td>[stars, small, give, one, training, session, t...</td>\n",
       "    </tr>\n",
       "    <tr>\n",
       "      <th>568452</th>\n",
       "      <td>1</td>\n",
       "      <td>[best, treats, training, rewarding, dog, good,...</td>\n",
       "    </tr>\n",
       "    <tr>\n",
       "      <th>568453</th>\n",
       "      <td>1</td>\n",
       "      <td>[satisfied, product, advertised, use, cereal, ...</td>\n",
       "    </tr>\n",
       "  </tbody>\n",
       "</table>\n",
       "<p>568454 rows × 2 columns</p>\n",
       "</div>"
      ],
      "text/plain": [
       "        Score                                               Text\n",
       "0           1  [bought, several, vitality, canned, dog, food,...\n",
       "1          -1  [product, arrived, labeled, jumbo, salted, pea...\n",
       "2           1  [confection, around, centuries, light, pillowy...\n",
       "3          -1  [looking, secret, ingredient, robitussin, beli...\n",
       "4           1  [great, taffy, great, price, wide, assortment,...\n",
       "...       ...                                                ...\n",
       "568449      1  [great, sesame, chickenthis, good, better, res...\n",
       "568450     -1  [im, disappointed, flavor, chocolate, notes, e...\n",
       "568451      1  [stars, small, give, one, training, session, t...\n",
       "568452      1  [best, treats, training, rewarding, dog, good,...\n",
       "568453      1  [satisfied, product, advertised, use, cereal, ...\n",
       "\n",
       "[568454 rows x 2 columns]"
      ]
     },
     "execution_count": 30,
     "metadata": {},
     "output_type": "execute_result"
    }
   ],
   "source": [
    "training_data[\"Text\"] = training_data[\"Text\"].apply(removeStopWords)\n",
    "training_data"
   ]
  },
  {
   "cell_type": "code",
   "execution_count": 31,
   "id": "81baeba6",
   "metadata": {},
   "outputs": [
    {
     "data": {
      "text/html": [
       "<div>\n",
       "<style scoped>\n",
       "    .dataframe tbody tr th:only-of-type {\n",
       "        vertical-align: middle;\n",
       "    }\n",
       "\n",
       "    .dataframe tbody tr th {\n",
       "        vertical-align: top;\n",
       "    }\n",
       "\n",
       "    .dataframe thead th {\n",
       "        text-align: right;\n",
       "    }\n",
       "</style>\n",
       "<table border=\"1\" class=\"dataframe\">\n",
       "  <thead>\n",
       "    <tr style=\"text-align: right;\">\n",
       "      <th></th>\n",
       "      <th>Score</th>\n",
       "      <th>Text</th>\n",
       "    </tr>\n",
       "  </thead>\n",
       "  <tbody>\n",
       "    <tr>\n",
       "      <th>0</th>\n",
       "      <td>1</td>\n",
       "      <td>[bought, several, vitality, canned, dog, food,...</td>\n",
       "    </tr>\n",
       "    <tr>\n",
       "      <th>1</th>\n",
       "      <td>-1</td>\n",
       "      <td>[product, arrived, labeled, jumbo, salted, pea...</td>\n",
       "    </tr>\n",
       "    <tr>\n",
       "      <th>2</th>\n",
       "      <td>1</td>\n",
       "      <td>[confection, around, century, light, pillowy, ...</td>\n",
       "    </tr>\n",
       "    <tr>\n",
       "      <th>3</th>\n",
       "      <td>-1</td>\n",
       "      <td>[looking, secret, ingredient, robitussin, beli...</td>\n",
       "    </tr>\n",
       "    <tr>\n",
       "      <th>4</th>\n",
       "      <td>1</td>\n",
       "      <td>[great, taffy, great, price, wide, assortment,...</td>\n",
       "    </tr>\n",
       "    <tr>\n",
       "      <th>...</th>\n",
       "      <td>...</td>\n",
       "      <td>...</td>\n",
       "    </tr>\n",
       "    <tr>\n",
       "      <th>568449</th>\n",
       "      <td>1</td>\n",
       "      <td>[great, sesame, chickenthis, good, better, res...</td>\n",
       "    </tr>\n",
       "    <tr>\n",
       "      <th>568450</th>\n",
       "      <td>-1</td>\n",
       "      <td>[im, disappointed, flavor, chocolate, note, es...</td>\n",
       "    </tr>\n",
       "    <tr>\n",
       "      <th>568451</th>\n",
       "      <td>1</td>\n",
       "      <td>[star, small, give, one, training, session, tr...</td>\n",
       "    </tr>\n",
       "    <tr>\n",
       "      <th>568452</th>\n",
       "      <td>1</td>\n",
       "      <td>[best, treat, training, rewarding, dog, good, ...</td>\n",
       "    </tr>\n",
       "    <tr>\n",
       "      <th>568453</th>\n",
       "      <td>1</td>\n",
       "      <td>[satisfied, product, advertised, use, cereal, ...</td>\n",
       "    </tr>\n",
       "  </tbody>\n",
       "</table>\n",
       "<p>568454 rows × 2 columns</p>\n",
       "</div>"
      ],
      "text/plain": [
       "        Score                                               Text\n",
       "0           1  [bought, several, vitality, canned, dog, food,...\n",
       "1          -1  [product, arrived, labeled, jumbo, salted, pea...\n",
       "2           1  [confection, around, century, light, pillowy, ...\n",
       "3          -1  [looking, secret, ingredient, robitussin, beli...\n",
       "4           1  [great, taffy, great, price, wide, assortment,...\n",
       "...       ...                                                ...\n",
       "568449      1  [great, sesame, chickenthis, good, better, res...\n",
       "568450     -1  [im, disappointed, flavor, chocolate, note, es...\n",
       "568451      1  [star, small, give, one, training, session, tr...\n",
       "568452      1  [best, treat, training, rewarding, dog, good, ...\n",
       "568453      1  [satisfied, product, advertised, use, cereal, ...\n",
       "\n",
       "[568454 rows x 2 columns]"
      ]
     },
     "execution_count": 31,
     "metadata": {},
     "output_type": "execute_result"
    }
   ],
   "source": [
    "training_data[\"Text\"] = training_data[\"Text\"].apply(lemmatizeWords)\n",
    "training_data"
   ]
  },
  {
   "cell_type": "code",
   "execution_count": 32,
   "id": "33514626",
   "metadata": {},
   "outputs": [
    {
     "data": {
      "text/html": [
       "<div>\n",
       "<style scoped>\n",
       "    .dataframe tbody tr th:only-of-type {\n",
       "        vertical-align: middle;\n",
       "    }\n",
       "\n",
       "    .dataframe tbody tr th {\n",
       "        vertical-align: top;\n",
       "    }\n",
       "\n",
       "    .dataframe thead th {\n",
       "        text-align: right;\n",
       "    }\n",
       "</style>\n",
       "<table border=\"1\" class=\"dataframe\">\n",
       "  <thead>\n",
       "    <tr style=\"text-align: right;\">\n",
       "      <th></th>\n",
       "      <th>Score</th>\n",
       "      <th>Text</th>\n",
       "    </tr>\n",
       "  </thead>\n",
       "  <tbody>\n",
       "    <tr>\n",
       "      <th>0</th>\n",
       "      <td>1</td>\n",
       "      <td>[bought, sever, vital, can, dog, food, product...</td>\n",
       "    </tr>\n",
       "    <tr>\n",
       "      <th>1</th>\n",
       "      <td>-1</td>\n",
       "      <td>[product, arriv, label, jumbo, salt, peanutsth...</td>\n",
       "    </tr>\n",
       "    <tr>\n",
       "      <th>2</th>\n",
       "      <td>1</td>\n",
       "      <td>[confect, around, centuri, light, pillowi, cit...</td>\n",
       "    </tr>\n",
       "    <tr>\n",
       "      <th>3</th>\n",
       "      <td>-1</td>\n",
       "      <td>[look, secret, ingredi, robitussin, believ, fo...</td>\n",
       "    </tr>\n",
       "    <tr>\n",
       "      <th>4</th>\n",
       "      <td>1</td>\n",
       "      <td>[great, taffi, great, price, wide, assort, yum...</td>\n",
       "    </tr>\n",
       "    <tr>\n",
       "      <th>...</th>\n",
       "      <td>...</td>\n",
       "      <td>...</td>\n",
       "    </tr>\n",
       "    <tr>\n",
       "      <th>568449</th>\n",
       "      <td>1</td>\n",
       "      <td>[great, sesam, chickenthi, good, better, restu...</td>\n",
       "    </tr>\n",
       "    <tr>\n",
       "      <th>568450</th>\n",
       "      <td>-1</td>\n",
       "      <td>[im, disappoint, flavor, chocol, note, especi,...</td>\n",
       "    </tr>\n",
       "    <tr>\n",
       "      <th>568451</th>\n",
       "      <td>1</td>\n",
       "      <td>[star, small, give, one, train, session, tri, ...</td>\n",
       "    </tr>\n",
       "    <tr>\n",
       "      <th>568452</th>\n",
       "      <td>1</td>\n",
       "      <td>[best, treat, train, reward, dog, good, groom,...</td>\n",
       "    </tr>\n",
       "    <tr>\n",
       "      <th>568453</th>\n",
       "      <td>1</td>\n",
       "      <td>[satisfi, product, advertis, use, cereal, raw,...</td>\n",
       "    </tr>\n",
       "  </tbody>\n",
       "</table>\n",
       "<p>568454 rows × 2 columns</p>\n",
       "</div>"
      ],
      "text/plain": [
       "        Score                                               Text\n",
       "0           1  [bought, sever, vital, can, dog, food, product...\n",
       "1          -1  [product, arriv, label, jumbo, salt, peanutsth...\n",
       "2           1  [confect, around, centuri, light, pillowi, cit...\n",
       "3          -1  [look, secret, ingredi, robitussin, believ, fo...\n",
       "4           1  [great, taffi, great, price, wide, assort, yum...\n",
       "...       ...                                                ...\n",
       "568449      1  [great, sesam, chickenthi, good, better, restu...\n",
       "568450     -1  [im, disappoint, flavor, chocol, note, especi,...\n",
       "568451      1  [star, small, give, one, train, session, tri, ...\n",
       "568452      1  [best, treat, train, reward, dog, good, groom,...\n",
       "568453      1  [satisfi, product, advertis, use, cereal, raw,...\n",
       "\n",
       "[568454 rows x 2 columns]"
      ]
     },
     "execution_count": 32,
     "metadata": {},
     "output_type": "execute_result"
    }
   ],
   "source": [
    "training_data[\"Text\"] = training_data[\"Text\"].apply(stemWords)\n",
    "training_data"
   ]
  },
  {
   "cell_type": "code",
   "execution_count": 33,
   "id": "1aaf9cd9",
   "metadata": {},
   "outputs": [
    {
     "data": {
      "text/html": [
       "<div>\n",
       "<style scoped>\n",
       "    .dataframe tbody tr th:only-of-type {\n",
       "        vertical-align: middle;\n",
       "    }\n",
       "\n",
       "    .dataframe tbody tr th {\n",
       "        vertical-align: top;\n",
       "    }\n",
       "\n",
       "    .dataframe thead th {\n",
       "        text-align: right;\n",
       "    }\n",
       "</style>\n",
       "<table border=\"1\" class=\"dataframe\">\n",
       "  <thead>\n",
       "    <tr style=\"text-align: right;\">\n",
       "      <th></th>\n",
       "      <th>Score</th>\n",
       "      <th>Text</th>\n",
       "    </tr>\n",
       "  </thead>\n",
       "  <tbody>\n",
       "    <tr>\n",
       "      <th>0</th>\n",
       "      <td>1</td>\n",
       "      <td>[(bought, VBN), (sever, JJ), (vital, NN), (can...</td>\n",
       "    </tr>\n",
       "    <tr>\n",
       "      <th>1</th>\n",
       "      <td>-1</td>\n",
       "      <td>[(product, NN), (arriv, NN), (label, JJ), (jum...</td>\n",
       "    </tr>\n",
       "    <tr>\n",
       "      <th>2</th>\n",
       "      <td>1</td>\n",
       "      <td>[(confect, NN), (around, IN), (centuri, NN), (...</td>\n",
       "    </tr>\n",
       "    <tr>\n",
       "      <th>3</th>\n",
       "      <td>-1</td>\n",
       "      <td>[(look, NN), (secret, JJ), (ingredi, NN), (rob...</td>\n",
       "    </tr>\n",
       "    <tr>\n",
       "      <th>4</th>\n",
       "      <td>1</td>\n",
       "      <td>[(great, JJ), (taffi, JJ), (great, JJ), (price...</td>\n",
       "    </tr>\n",
       "    <tr>\n",
       "      <th>...</th>\n",
       "      <td>...</td>\n",
       "      <td>...</td>\n",
       "    </tr>\n",
       "    <tr>\n",
       "      <th>568449</th>\n",
       "      <td>1</td>\n",
       "      <td>[(great, JJ), (sesam, JJ), (chickenthi, NN), (...</td>\n",
       "    </tr>\n",
       "    <tr>\n",
       "      <th>568450</th>\n",
       "      <td>-1</td>\n",
       "      <td>[(im, JJ), (disappoint, NN), (flavor, NN), (ch...</td>\n",
       "    </tr>\n",
       "    <tr>\n",
       "      <th>568451</th>\n",
       "      <td>1</td>\n",
       "      <td>[(star, NN), (small, JJ), (give, VBP), (one, C...</td>\n",
       "    </tr>\n",
       "    <tr>\n",
       "      <th>568452</th>\n",
       "      <td>1</td>\n",
       "      <td>[(best, JJS), (treat, NN), (train, NN), (rewar...</td>\n",
       "    </tr>\n",
       "    <tr>\n",
       "      <th>568453</th>\n",
       "      <td>1</td>\n",
       "      <td>[(satisfi, JJ), (product, NN), (advertis, NN),...</td>\n",
       "    </tr>\n",
       "  </tbody>\n",
       "</table>\n",
       "<p>568454 rows × 2 columns</p>\n",
       "</div>"
      ],
      "text/plain": [
       "        Score                                               Text\n",
       "0           1  [(bought, VBN), (sever, JJ), (vital, NN), (can...\n",
       "1          -1  [(product, NN), (arriv, NN), (label, JJ), (jum...\n",
       "2           1  [(confect, NN), (around, IN), (centuri, NN), (...\n",
       "3          -1  [(look, NN), (secret, JJ), (ingredi, NN), (rob...\n",
       "4           1  [(great, JJ), (taffi, JJ), (great, JJ), (price...\n",
       "...       ...                                                ...\n",
       "568449      1  [(great, JJ), (sesam, JJ), (chickenthi, NN), (...\n",
       "568450     -1  [(im, JJ), (disappoint, NN), (flavor, NN), (ch...\n",
       "568451      1  [(star, NN), (small, JJ), (give, VBP), (one, C...\n",
       "568452      1  [(best, JJS), (treat, NN), (train, NN), (rewar...\n",
       "568453      1  [(satisfi, JJ), (product, NN), (advertis, NN),...\n",
       "\n",
       "[568454 rows x 2 columns]"
      ]
     },
     "execution_count": 33,
     "metadata": {},
     "output_type": "execute_result"
    }
   ],
   "source": [
    "training_data[\"Text\"] = training_data[\"Text\"].apply(nltk.pos_tag)\n",
    "training_data"
   ]
  },
  {
   "cell_type": "code",
   "execution_count": 34,
   "id": "aca2dbe3",
   "metadata": {},
   "outputs": [
    {
     "data": {
      "text/html": [
       "<div>\n",
       "<style scoped>\n",
       "    .dataframe tbody tr th:only-of-type {\n",
       "        vertical-align: middle;\n",
       "    }\n",
       "\n",
       "    .dataframe tbody tr th {\n",
       "        vertical-align: top;\n",
       "    }\n",
       "\n",
       "    .dataframe thead th {\n",
       "        text-align: right;\n",
       "    }\n",
       "</style>\n",
       "<table border=\"1\" class=\"dataframe\">\n",
       "  <thead>\n",
       "    <tr style=\"text-align: right;\">\n",
       "      <th></th>\n",
       "      <th>Score</th>\n",
       "      <th>Text</th>\n",
       "    </tr>\n",
       "  </thead>\n",
       "  <tbody>\n",
       "    <tr>\n",
       "      <th>0</th>\n",
       "      <td>1</td>\n",
       "      <td>[bought/VBN, sever/JJ, vital/NN, can/MD, dog/V...</td>\n",
       "    </tr>\n",
       "    <tr>\n",
       "      <th>1</th>\n",
       "      <td>-1</td>\n",
       "      <td>[product/NN, arriv/NN, label/JJ, jumbo/JJ, sal...</td>\n",
       "    </tr>\n",
       "    <tr>\n",
       "      <th>2</th>\n",
       "      <td>1</td>\n",
       "      <td>[confect/NN, around/IN, centuri/NN, light/JJ, ...</td>\n",
       "    </tr>\n",
       "    <tr>\n",
       "      <th>3</th>\n",
       "      <td>-1</td>\n",
       "      <td>[look/NN, secret/JJ, ingredi/NN, robitussin/NN...</td>\n",
       "    </tr>\n",
       "    <tr>\n",
       "      <th>4</th>\n",
       "      <td>1</td>\n",
       "      <td>[great/JJ, taffi/JJ, great/JJ, price/NN, wide/...</td>\n",
       "    </tr>\n",
       "    <tr>\n",
       "      <th>...</th>\n",
       "      <td>...</td>\n",
       "      <td>...</td>\n",
       "    </tr>\n",
       "    <tr>\n",
       "      <th>568449</th>\n",
       "      <td>1</td>\n",
       "      <td>[great/JJ, sesam/JJ, chickenthi/NN, good/JJ, b...</td>\n",
       "    </tr>\n",
       "    <tr>\n",
       "      <th>568450</th>\n",
       "      <td>-1</td>\n",
       "      <td>[im/JJ, disappoint/NN, flavor/NN, chocol/NN, n...</td>\n",
       "    </tr>\n",
       "    <tr>\n",
       "      <th>568451</th>\n",
       "      <td>1</td>\n",
       "      <td>[star/NN, small/JJ, give/VBP, one/CD, train/NN...</td>\n",
       "    </tr>\n",
       "    <tr>\n",
       "      <th>568452</th>\n",
       "      <td>1</td>\n",
       "      <td>[best/JJS, treat/NN, train/NN, reward/NN, dog/...</td>\n",
       "    </tr>\n",
       "    <tr>\n",
       "      <th>568453</th>\n",
       "      <td>1</td>\n",
       "      <td>[satisfi/JJ, product/NN, advertis/NN, use/NN, ...</td>\n",
       "    </tr>\n",
       "  </tbody>\n",
       "</table>\n",
       "<p>568454 rows × 2 columns</p>\n",
       "</div>"
      ],
      "text/plain": [
       "        Score                                               Text\n",
       "0           1  [bought/VBN, sever/JJ, vital/NN, can/MD, dog/V...\n",
       "1          -1  [product/NN, arriv/NN, label/JJ, jumbo/JJ, sal...\n",
       "2           1  [confect/NN, around/IN, centuri/NN, light/JJ, ...\n",
       "3          -1  [look/NN, secret/JJ, ingredi/NN, robitussin/NN...\n",
       "4           1  [great/JJ, taffi/JJ, great/JJ, price/NN, wide/...\n",
       "...       ...                                                ...\n",
       "568449      1  [great/JJ, sesam/JJ, chickenthi/NN, good/JJ, b...\n",
       "568450     -1  [im/JJ, disappoint/NN, flavor/NN, chocol/NN, n...\n",
       "568451      1  [star/NN, small/JJ, give/VBP, one/CD, train/NN...\n",
       "568452      1  [best/JJS, treat/NN, train/NN, reward/NN, dog/...\n",
       "568453      1  [satisfi/JJ, product/NN, advertis/NN, use/NN, ...\n",
       "\n",
       "[568454 rows x 2 columns]"
      ]
     },
     "execution_count": 34,
     "metadata": {},
     "output_type": "execute_result"
    }
   ],
   "source": [
    "training_data[\"Text\"] = training_data[\"Text\"].apply(flatener)\n",
    "training_data"
   ]
  },
  {
   "cell_type": "code",
   "execution_count": 35,
   "id": "03120063",
   "metadata": {},
   "outputs": [
    {
     "data": {
      "text/html": [
       "<div>\n",
       "<style scoped>\n",
       "    .dataframe tbody tr th:only-of-type {\n",
       "        vertical-align: middle;\n",
       "    }\n",
       "\n",
       "    .dataframe tbody tr th {\n",
       "        vertical-align: top;\n",
       "    }\n",
       "\n",
       "    .dataframe thead th {\n",
       "        text-align: right;\n",
       "    }\n",
       "</style>\n",
       "<table border=\"1\" class=\"dataframe\">\n",
       "  <thead>\n",
       "    <tr style=\"text-align: right;\">\n",
       "      <th></th>\n",
       "      <th>Score</th>\n",
       "      <th>Text</th>\n",
       "    </tr>\n",
       "  </thead>\n",
       "  <tbody>\n",
       "    <tr>\n",
       "      <th>0</th>\n",
       "      <td>1</td>\n",
       "      <td>bought/VBN sever/JJ vital/NN can/MD dog/VB foo...</td>\n",
       "    </tr>\n",
       "    <tr>\n",
       "      <th>1</th>\n",
       "      <td>-1</td>\n",
       "      <td>product/NN arriv/NN label/JJ jumbo/JJ salt/NN ...</td>\n",
       "    </tr>\n",
       "    <tr>\n",
       "      <th>2</th>\n",
       "      <td>1</td>\n",
       "      <td>confect/NN around/IN centuri/NN light/JJ pillo...</td>\n",
       "    </tr>\n",
       "    <tr>\n",
       "      <th>3</th>\n",
       "      <td>-1</td>\n",
       "      <td>look/NN secret/JJ ingredi/NN robitussin/NN bel...</td>\n",
       "    </tr>\n",
       "    <tr>\n",
       "      <th>4</th>\n",
       "      <td>1</td>\n",
       "      <td>great/JJ taffi/JJ great/JJ price/NN wide/JJ as...</td>\n",
       "    </tr>\n",
       "    <tr>\n",
       "      <th>...</th>\n",
       "      <td>...</td>\n",
       "      <td>...</td>\n",
       "    </tr>\n",
       "    <tr>\n",
       "      <th>568449</th>\n",
       "      <td>1</td>\n",
       "      <td>great/JJ sesam/JJ chickenthi/NN good/JJ better...</td>\n",
       "    </tr>\n",
       "    <tr>\n",
       "      <th>568450</th>\n",
       "      <td>-1</td>\n",
       "      <td>im/JJ disappoint/NN flavor/NN chocol/NN note/N...</td>\n",
       "    </tr>\n",
       "    <tr>\n",
       "      <th>568451</th>\n",
       "      <td>1</td>\n",
       "      <td>star/NN small/JJ give/VBP one/CD train/NN sess...</td>\n",
       "    </tr>\n",
       "    <tr>\n",
       "      <th>568452</th>\n",
       "      <td>1</td>\n",
       "      <td>best/JJS treat/NN train/NN reward/NN dog/NN go...</td>\n",
       "    </tr>\n",
       "    <tr>\n",
       "      <th>568453</th>\n",
       "      <td>1</td>\n",
       "      <td>satisfi/JJ product/NN advertis/NN use/NN cerea...</td>\n",
       "    </tr>\n",
       "  </tbody>\n",
       "</table>\n",
       "<p>568454 rows × 2 columns</p>\n",
       "</div>"
      ],
      "text/plain": [
       "        Score                                               Text\n",
       "0           1  bought/VBN sever/JJ vital/NN can/MD dog/VB foo...\n",
       "1          -1  product/NN arriv/NN label/JJ jumbo/JJ salt/NN ...\n",
       "2           1  confect/NN around/IN centuri/NN light/JJ pillo...\n",
       "3          -1  look/NN secret/JJ ingredi/NN robitussin/NN bel...\n",
       "4           1  great/JJ taffi/JJ great/JJ price/NN wide/JJ as...\n",
       "...       ...                                                ...\n",
       "568449      1  great/JJ sesam/JJ chickenthi/NN good/JJ better...\n",
       "568450     -1  im/JJ disappoint/NN flavor/NN chocol/NN note/N...\n",
       "568451      1  star/NN small/JJ give/VBP one/CD train/NN sess...\n",
       "568452      1  best/JJS treat/NN train/NN reward/NN dog/NN go...\n",
       "568453      1  satisfi/JJ product/NN advertis/NN use/NN cerea...\n",
       "\n",
       "[568454 rows x 2 columns]"
      ]
     },
     "execution_count": 35,
     "metadata": {},
     "output_type": "execute_result"
    }
   ],
   "source": [
    "training_data[\"Text\"] = training_data[\"Text\"].apply(detokenizer)\n",
    "training_data"
   ]
  },
  {
   "cell_type": "code",
   "execution_count": 36,
   "id": "fe7323d0",
   "metadata": {},
   "outputs": [],
   "source": [
    "X = training_data[\"Text\"]  \n",
    "y = training_data[\"Score\"].astype('int')  \n",
    "X_train, X_test, y_train, y_test = train_test_split(X, y, test_size=0.2, random_state=42, stratify=y)"
   ]
  },
  {
   "cell_type": "code",
   "execution_count": 37,
   "id": "0175ad76",
   "metadata": {},
   "outputs": [],
   "source": [
    "uniSVM = Pipeline([\n",
    "    ('tfidf', TfidfVectorizer(ngram_range=(1, 1))), \n",
    "    ('SVM', LinearSVC(C=0.1))\n",
    "])\n",
    "biSVM = Pipeline([\n",
    "    ('tfidf', TfidfVectorizer(ngram_range=(2, 2))), \n",
    "    ('SVM', LinearSVC(C=0.1))\n",
    "])\n",
    "uniBiSVM = Pipeline([\n",
    "    ('tfidf', TfidfVectorizer(ngram_range=(1, 2))), \n",
    "    ('SVM', LinearSVC(C=0.2))\n",
    "])"
   ]
  },
  {
   "cell_type": "code",
   "execution_count": 38,
   "id": "64f2c321",
   "metadata": {},
   "outputs": [
    {
     "data": {
      "text/plain": [
       "0.9194395334723066"
      ]
     },
     "execution_count": 38,
     "metadata": {},
     "output_type": "execute_result"
    }
   ],
   "source": [
    "uniSVM.fit(X_train, y_train)\n",
    "uniSVM.score(X_test, y_test)"
   ]
  },
  {
   "cell_type": "code",
   "execution_count": 39,
   "id": "782ea333",
   "metadata": {},
   "outputs": [
    {
     "data": {
      "text/plain": [
       "0.9272941569693292"
      ]
     },
     "execution_count": 39,
     "metadata": {},
     "output_type": "execute_result"
    }
   ],
   "source": [
    "biSVM.fit(X_train, y_train)\n",
    "biSVM.score(X_test, y_test)"
   ]
  },
  {
   "cell_type": "code",
   "execution_count": 40,
   "id": "ffa46080",
   "metadata": {},
   "outputs": [
    {
     "data": {
      "text/plain": [
       "0.9324660703133933"
      ]
     },
     "execution_count": 40,
     "metadata": {},
     "output_type": "execute_result"
    }
   ],
   "source": [
    "uniBiSVM.fit(X_train, y_train)\n",
    "uniBiSVM.score(X_test, y_test)"
   ]
  },
  {
   "cell_type": "code",
   "execution_count": 41,
   "id": "8fced2ea",
   "metadata": {},
   "outputs": [
    {
     "name": "stdout",
     "output_type": "stream",
     "text": [
      "              precision    recall  f1-score   support\n",
      "\n",
      "          -1       0.82      0.57      0.67     16407\n",
      "           1       0.93      0.98      0.95     97284\n",
      "\n",
      "    accuracy                           0.92    113691\n",
      "   macro avg       0.87      0.77      0.81    113691\n",
      "weighted avg       0.91      0.92      0.91    113691\n",
      "\n",
      "[[ 9332  7075]\n",
      " [ 2084 95200]]\n"
     ]
    }
   ],
   "source": [
    "y_pred = uniSVM.predict(X_test)\n",
    "print(classification_report(y_test,y_pred))\n",
    "print(confusion_matrix(y_test,y_pred))"
   ]
  },
  {
   "cell_type": "code",
   "execution_count": 42,
   "id": "f173ee89",
   "metadata": {},
   "outputs": [
    {
     "name": "stdout",
     "output_type": "stream",
     "text": [
      "              precision    recall  f1-score   support\n",
      "\n",
      "          -1       0.85      0.60      0.71     16407\n",
      "           1       0.94      0.98      0.96     97284\n",
      "\n",
      "    accuracy                           0.93    113691\n",
      "   macro avg       0.89      0.79      0.83    113691\n",
      "weighted avg       0.92      0.93      0.92    113691\n",
      "\n",
      "[[ 9885  6522]\n",
      " [ 1744 95540]]\n"
     ]
    }
   ],
   "source": [
    "y_pred = biSVM.predict(X_test)\n",
    "print(classification_report(y_test,y_pred))\n",
    "print(confusion_matrix(y_test,y_pred))"
   ]
  },
  {
   "cell_type": "code",
   "execution_count": 45,
   "id": "14a513f3",
   "metadata": {},
   "outputs": [
    {
     "name": "stdout",
     "output_type": "stream",
     "text": [
      "              precision    recall  f1-score   support\n",
      "\n",
      "          -1       0.85      0.65      0.74     16407\n",
      "           1       0.94      0.98      0.96     97284\n",
      "\n",
      "    accuracy                           0.93    113691\n",
      "   macro avg       0.89      0.82      0.85    113691\n",
      "weighted avg       0.93      0.93      0.93    113691\n",
      "\n",
      "[[10673  5734]\n",
      " [ 1944 95340]]\n"
     ]
    }
   ],
   "source": [
    "y_pred = uniBiSVM.predict(X_test)\n",
    "print(classification_report(y_test,y_pred))\n",
    "print(confusion_matrix(y_test,y_pred))"
   ]
  },
  {
   "cell_type": "markdown",
   "id": "175e554f",
   "metadata": {},
   "source": [
    "# Trip Advisor Dataset"
   ]
  },
  {
   "cell_type": "code",
   "execution_count": 97,
   "id": "9f90160d",
   "metadata": {},
   "outputs": [
    {
     "data": {
      "text/html": [
       "<div>\n",
       "<style scoped>\n",
       "    .dataframe tbody tr th:only-of-type {\n",
       "        vertical-align: middle;\n",
       "    }\n",
       "\n",
       "    .dataframe tbody tr th {\n",
       "        vertical-align: top;\n",
       "    }\n",
       "\n",
       "    .dataframe thead th {\n",
       "        text-align: right;\n",
       "    }\n",
       "</style>\n",
       "<table border=\"1\" class=\"dataframe\">\n",
       "  <thead>\n",
       "    <tr style=\"text-align: right;\">\n",
       "      <th></th>\n",
       "      <th>Review</th>\n",
       "      <th>Rating</th>\n",
       "    </tr>\n",
       "  </thead>\n",
       "  <tbody>\n",
       "    <tr>\n",
       "      <th>0</th>\n",
       "      <td>nice hotel expensive parking got good deal sta...</td>\n",
       "      <td>4</td>\n",
       "    </tr>\n",
       "    <tr>\n",
       "      <th>1</th>\n",
       "      <td>ok nothing special charge diamond member hilto...</td>\n",
       "      <td>2</td>\n",
       "    </tr>\n",
       "    <tr>\n",
       "      <th>2</th>\n",
       "      <td>nice rooms not 4* experience hotel monaco seat...</td>\n",
       "      <td>3</td>\n",
       "    </tr>\n",
       "    <tr>\n",
       "      <th>3</th>\n",
       "      <td>unique, great stay, wonderful time hotel monac...</td>\n",
       "      <td>5</td>\n",
       "    </tr>\n",
       "    <tr>\n",
       "      <th>4</th>\n",
       "      <td>great stay great stay, went seahawk game aweso...</td>\n",
       "      <td>5</td>\n",
       "    </tr>\n",
       "  </tbody>\n",
       "</table>\n",
       "</div>"
      ],
      "text/plain": [
       "                                              Review  Rating\n",
       "0  nice hotel expensive parking got good deal sta...       4\n",
       "1  ok nothing special charge diamond member hilto...       2\n",
       "2  nice rooms not 4* experience hotel monaco seat...       3\n",
       "3  unique, great stay, wonderful time hotel monac...       5\n",
       "4  great stay great stay, went seahawk game aweso...       5"
      ]
     },
     "execution_count": 97,
     "metadata": {},
     "output_type": "execute_result"
    }
   ],
   "source": [
    "training_data = pd.read_csv(\"./Tripadvisor dataset/tripadvisor_hotel_reviews.csv\")\n",
    "training_data.head(5)"
   ]
  },
  {
   "cell_type": "code",
   "execution_count": 98,
   "id": "f3a0cd01",
   "metadata": {},
   "outputs": [
    {
     "data": {
      "text/plain": [
       "5    9054\n",
       "4    6039\n",
       "3    2184\n",
       "2    1793\n",
       "1    1421\n",
       "Name: Score, dtype: int64"
      ]
     },
     "execution_count": 98,
     "metadata": {},
     "output_type": "execute_result"
    }
   ],
   "source": [
    "training_data[\"Score\"] = training_data[\"Rating\"]\n",
    "training_data[\"Text\"] = training_data[\"Review\"]\n",
    "training_data[\"Score\"].value_counts()"
   ]
  },
  {
   "cell_type": "code",
   "execution_count": 99,
   "id": "8a6ef0ab",
   "metadata": {},
   "outputs": [
    {
     "data": {
      "text/plain": [
       "5    9054\n",
       "4    6039\n",
       "2    1793\n",
       "1    1421\n",
       "Name: Score, dtype: int64"
      ]
     },
     "execution_count": 99,
     "metadata": {},
     "output_type": "execute_result"
    }
   ],
   "source": [
    "training_data = training_data[training_data[\"Score\"].astype('int')!=3]\n",
    "training_data[\"Score\"].value_counts()"
   ]
  },
  {
   "cell_type": "code",
   "execution_count": 100,
   "id": "0d35de30",
   "metadata": {},
   "outputs": [
    {
     "data": {
      "text/plain": [
       " 1    15093\n",
       "-1     3214\n",
       "Name: Score, dtype: int64"
      ]
     },
     "execution_count": 100,
     "metadata": {},
     "output_type": "execute_result"
    }
   ],
   "source": [
    "training_data[\"Score\"] = training_data[\"Score\"].astype('int').apply(reduceScore)\n",
    "training_data[\"Score\"].value_counts()"
   ]
  },
  {
   "cell_type": "code",
   "execution_count": 101,
   "id": "def85a53",
   "metadata": {},
   "outputs": [],
   "source": [
    "training_data = training_data.drop(training_data[training_data['Score'] > 0].sample(n=11879).index)"
   ]
  },
  {
   "cell_type": "code",
   "execution_count": 102,
   "id": "7fa9de3e",
   "metadata": {},
   "outputs": [
    {
     "data": {
      "text/plain": [
       " 1    3214\n",
       "-1    3214\n",
       "Name: Score, dtype: int64"
      ]
     },
     "execution_count": 102,
     "metadata": {},
     "output_type": "execute_result"
    }
   ],
   "source": [
    "training_data[\"Score\"].value_counts()"
   ]
  },
  {
   "cell_type": "code",
   "execution_count": 104,
   "id": "5e3fd859",
   "metadata": {},
   "outputs": [],
   "source": [
    "training_data[\"Text\"] = training_data[\"Text\"].apply(clean_text)\n",
    "training_data\n",
    "\n",
    "training_data[\"Text\"] = training_data[\"Text\"].apply(tokenizer.tokenize)\n",
    "training_data\n",
    "\n",
    "training_data[\"Text\"] = training_data[\"Text\"].apply(removeStopWords)\n",
    "training_data\n",
    "\n",
    "training_data[\"Text\"] = training_data[\"Text\"].apply(lemmatizeWords)\n",
    "training_data\n",
    "\n",
    "training_data[\"Text\"] = training_data[\"Text\"].apply(stemWords)\n",
    "training_data\n",
    "\n",
    "training_data[\"Text\"] = training_data[\"Text\"].apply(nltk.pos_tag)\n",
    "training_data\n",
    "\n",
    "training_data[\"Text\"] = training_data[\"Text\"].apply(flatener)\n",
    "training_data\n",
    "\n",
    "training_data[\"Text\"] = training_data[\"Text\"].apply(detokenizer)\n",
    "training_data\n",
    "\n",
    "X = training_data[\"Text\"]  \n",
    "y = training_data[\"Score\"].astype('int')  \n",
    "X_train, X_test, y_train, y_test = train_test_split(X, y, test_size=0.2, random_state=42, stratify=y)\n",
    "\n",
    "uniSVM = Pipeline([\n",
    "    ('tfidf', TfidfVectorizer(ngram_range=(1, 1))), \n",
    "    ('SVM', LinearSVC(C=0.1))\n",
    "])\n",
    "biSVM = Pipeline([\n",
    "    ('tfidf', TfidfVectorizer(ngram_range=(2, 2))), \n",
    "    ('SVM', LinearSVC(C=0.1))\n",
    "])\n",
    "uniBiSVM = Pipeline([\n",
    "    ('tfidf', TfidfVectorizer(ngram_range=(1, 2))), \n",
    "    ('SVM', LinearSVC(C=0.2))\n",
    "])"
   ]
  },
  {
   "cell_type": "code",
   "execution_count": 105,
   "id": "6e9676f1",
   "metadata": {},
   "outputs": [
    {
     "data": {
      "text/plain": [
       "0.9121306376360808"
      ]
     },
     "execution_count": 105,
     "metadata": {},
     "output_type": "execute_result"
    }
   ],
   "source": [
    "uniSVM.fit(X_train, y_train)\n",
    "uniSVM.score(X_test, y_test)"
   ]
  },
  {
   "cell_type": "code",
   "execution_count": 106,
   "id": "a2e3c718",
   "metadata": {},
   "outputs": [
    {
     "data": {
      "text/plain": [
       "0.921461897356143"
      ]
     },
     "execution_count": 106,
     "metadata": {},
     "output_type": "execute_result"
    }
   ],
   "source": [
    "biSVM.fit(X_train, y_train)\n",
    "biSVM.score(X_test, y_test)"
   ]
  },
  {
   "cell_type": "code",
   "execution_count": 107,
   "id": "e17182f3",
   "metadata": {},
   "outputs": [
    {
     "data": {
      "text/plain": [
       "0.9191290824261276"
      ]
     },
     "execution_count": 107,
     "metadata": {},
     "output_type": "execute_result"
    }
   ],
   "source": [
    "uniBiSVM.fit(X_train, y_train)\n",
    "uniBiSVM.score(X_test, y_test)"
   ]
  },
  {
   "cell_type": "code",
   "execution_count": 108,
   "id": "d258f043",
   "metadata": {},
   "outputs": [
    {
     "name": "stdout",
     "output_type": "stream",
     "text": [
      "              precision    recall  f1-score   support\n",
      "\n",
      "          -1       0.90      0.93      0.91       643\n",
      "           1       0.93      0.89      0.91       643\n",
      "\n",
      "    accuracy                           0.91      1286\n",
      "   macro avg       0.91      0.91      0.91      1286\n",
      "weighted avg       0.91      0.91      0.91      1286\n",
      "\n",
      "[[599  44]\n",
      " [ 69 574]]\n"
     ]
    }
   ],
   "source": [
    "y_pred = uniSVM.predict(X_test)\n",
    "print(classification_report(y_test,y_pred))\n",
    "print(confusion_matrix(y_test,y_pred))"
   ]
  },
  {
   "cell_type": "code",
   "execution_count": 109,
   "id": "2ddc117b",
   "metadata": {},
   "outputs": [
    {
     "name": "stdout",
     "output_type": "stream",
     "text": [
      "              precision    recall  f1-score   support\n",
      "\n",
      "          -1       0.92      0.92      0.92       643\n",
      "           1       0.92      0.92      0.92       643\n",
      "\n",
      "    accuracy                           0.92      1286\n",
      "   macro avg       0.92      0.92      0.92      1286\n",
      "weighted avg       0.92      0.92      0.92      1286\n",
      "\n",
      "[[593  50]\n",
      " [ 51 592]]\n"
     ]
    }
   ],
   "source": [
    "y_pred = biSVM.predict(X_test)\n",
    "print(classification_report(y_test,y_pred))\n",
    "print(confusion_matrix(y_test,y_pred))"
   ]
  },
  {
   "cell_type": "code",
   "execution_count": 110,
   "id": "11e210a5",
   "metadata": {},
   "outputs": [
    {
     "name": "stdout",
     "output_type": "stream",
     "text": [
      "              precision    recall  f1-score   support\n",
      "\n",
      "          -1       0.92      0.92      0.92       643\n",
      "           1       0.92      0.92      0.92       643\n",
      "\n",
      "    accuracy                           0.92      1286\n",
      "   macro avg       0.92      0.92      0.92      1286\n",
      "weighted avg       0.92      0.92      0.92      1286\n",
      "\n",
      "[[592  51]\n",
      " [ 53 590]]\n"
     ]
    }
   ],
   "source": [
    "y_pred = uniBiSVM.predict(X_test)\n",
    "print(classification_report(y_test,y_pred))\n",
    "print(confusion_matrix(y_test,y_pred))"
   ]
  },
  {
   "cell_type": "markdown",
   "id": "ebc24a1f",
   "metadata": {},
   "source": [
    "# Winemag dataset "
   ]
  },
  {
   "cell_type": "code",
   "execution_count": 148,
   "id": "4dee8271",
   "metadata": {},
   "outputs": [
    {
     "data": {
      "text/html": [
       "<div>\n",
       "<style scoped>\n",
       "    .dataframe tbody tr th:only-of-type {\n",
       "        vertical-align: middle;\n",
       "    }\n",
       "\n",
       "    .dataframe tbody tr th {\n",
       "        vertical-align: top;\n",
       "    }\n",
       "\n",
       "    .dataframe thead th {\n",
       "        text-align: right;\n",
       "    }\n",
       "</style>\n",
       "<table border=\"1\" class=\"dataframe\">\n",
       "  <thead>\n",
       "    <tr style=\"text-align: right;\">\n",
       "      <th></th>\n",
       "      <th>Score</th>\n",
       "      <th>Text</th>\n",
       "    </tr>\n",
       "  </thead>\n",
       "  <tbody>\n",
       "    <tr>\n",
       "      <th>0</th>\n",
       "      <td>neutral</td>\n",
       "      <td>According to Gran , the company has no plans t...</td>\n",
       "    </tr>\n",
       "    <tr>\n",
       "      <th>1</th>\n",
       "      <td>neutral</td>\n",
       "      <td>Technopolis plans to develop in stages an area...</td>\n",
       "    </tr>\n",
       "    <tr>\n",
       "      <th>2</th>\n",
       "      <td>negative</td>\n",
       "      <td>The international electronic industry company ...</td>\n",
       "    </tr>\n",
       "    <tr>\n",
       "      <th>3</th>\n",
       "      <td>positive</td>\n",
       "      <td>With the new production plant the company woul...</td>\n",
       "    </tr>\n",
       "    <tr>\n",
       "      <th>4</th>\n",
       "      <td>positive</td>\n",
       "      <td>According to the company 's updated strategy f...</td>\n",
       "    </tr>\n",
       "  </tbody>\n",
       "</table>\n",
       "</div>"
      ],
      "text/plain": [
       "      Score                                               Text\n",
       "0   neutral  According to Gran , the company has no plans t...\n",
       "1   neutral  Technopolis plans to develop in stages an area...\n",
       "2  negative  The international electronic industry company ...\n",
       "3  positive  With the new production plant the company woul...\n",
       "4  positive  According to the company 's updated strategy f..."
      ]
     },
     "execution_count": 148,
     "metadata": {},
     "output_type": "execute_result"
    }
   ],
   "source": [
    "training_data = pd.read_csv(\"./news/all-data.csv\", names=[\"Score\",\"Text\"])\n",
    "training_data.head(5)"
   ]
  },
  {
   "cell_type": "code",
   "execution_count": 149,
   "id": "32833420",
   "metadata": {},
   "outputs": [
    {
     "data": {
      "text/plain": [
       " 0    2879\n",
       " 1    1363\n",
       "-1     604\n",
       "Name: Score, dtype: int64"
      ]
     },
     "execution_count": 149,
     "metadata": {},
     "output_type": "execute_result"
    }
   ],
   "source": [
    "training_data[\"Score\"] = training_data[\"Score\"].apply(libelToScore)\n",
    "training_data[\"Score\"].value_counts()"
   ]
  },
  {
   "cell_type": "code",
   "execution_count": 158,
   "id": "64cb15d5",
   "metadata": {},
   "outputs": [],
   "source": [
    "training_data[\"Text\"] = training_data[\"Text\"].apply(clean_text)\n",
    "training_data\n",
    "\n",
    "training_data[\"Text\"] = training_data[\"Text\"].apply(tokenizer.tokenize)\n",
    "training_data\n",
    "\n",
    "training_data[\"Text\"] = training_data[\"Text\"].apply(removeStopWords)\n",
    "training_data\n",
    "\n",
    "training_data[\"Text\"] = training_data[\"Text\"].apply(lemmatizeWords)\n",
    "training_data\n",
    "\n",
    "training_data[\"Text\"] = training_data[\"Text\"].apply(stemWords)\n",
    "training_data\n",
    "\n",
    "training_data[\"Text\"] = training_data[\"Text\"].apply(nltk.pos_tag)\n",
    "training_data\n",
    "\n",
    "training_data[\"Text\"] = training_data[\"Text\"].apply(flatener)\n",
    "training_data\n",
    "\n",
    "training_data[\"Text\"] = training_data[\"Text\"].apply(detokenizer)\n",
    "training_data\n",
    "\n",
    "X = training_data[\"Text\"]  \n",
    "y = training_data[\"Score\"].astype('int')  \n",
    "X_train, X_test, y_train, y_test = train_test_split(X, y, test_size=0.2, random_state=42, stratify=y)\n",
    "\n",
    "uniSVM = Pipeline([\n",
    "    ('tfidf', TfidfVectorizer(ngram_range=(1, 1))), \n",
    "    ('SVM', LinearSVC(C=0.1))\n",
    "])\n",
    "biSVM = Pipeline([\n",
    "    ('tfidf', TfidfVectorizer(ngram_range=(2, 2))), \n",
    "    ('SVM', LinearSVC(C=0.1))\n",
    "])\n",
    "uniBiSVM = Pipeline([\n",
    "    ('tfidf', TfidfVectorizer(ngram_range=(1, 2))), \n",
    "    ('SVM', LinearSVC(C=0.2))\n",
    "])"
   ]
  },
  {
   "cell_type": "code",
   "execution_count": 125,
   "id": "1ed70d54",
   "metadata": {},
   "outputs": [
    {
     "data": {
      "text/plain": [
       "0.7154639175257732"
      ]
     },
     "execution_count": 125,
     "metadata": {},
     "output_type": "execute_result"
    }
   ],
   "source": [
    "uniSVM.fit(X_train, y_train)\n",
    "uniSVM.score(X_test, y_test)"
   ]
  },
  {
   "cell_type": "code",
   "execution_count": 128,
   "id": "079d3641",
   "metadata": {},
   "outputs": [
    {
     "data": {
      "text/plain": [
       "0.7061855670103093"
      ]
     },
     "execution_count": 128,
     "metadata": {},
     "output_type": "execute_result"
    }
   ],
   "source": [
    "biSVM.fit(X_train, y_train)\n",
    "biSVM.score(X_test, y_test)"
   ]
  },
  {
   "cell_type": "code",
   "execution_count": 127,
   "id": "a412042c",
   "metadata": {},
   "outputs": [
    {
     "data": {
      "text/plain": [
       "0.7350515463917526"
      ]
     },
     "execution_count": 127,
     "metadata": {},
     "output_type": "execute_result"
    }
   ],
   "source": [
    "uniBiSVM.fit(X_train, y_train)\n",
    "uniBiSVM.score(X_test, y_test)"
   ]
  },
  {
   "cell_type": "markdown",
   "id": "16e02ff9",
   "metadata": {},
   "source": [
    "## Results with the original database"
   ]
  },
  {
   "cell_type": "code",
   "execution_count": 129,
   "id": "e7f34d35",
   "metadata": {},
   "outputs": [
    {
     "name": "stdout",
     "output_type": "stream",
     "text": [
      "              precision    recall  f1-score   support\n",
      "\n",
      "          -1       0.68      0.36      0.47       121\n",
      "           0       0.72      0.94      0.82       576\n",
      "           1       0.71      0.39      0.51       273\n",
      "\n",
      "    accuracy                           0.72       970\n",
      "   macro avg       0.70      0.56      0.60       970\n",
      "weighted avg       0.71      0.72      0.69       970\n",
      "\n",
      "[[ 43  61  17]\n",
      " [  6 544  26]\n",
      " [ 14 152 107]]\n"
     ]
    }
   ],
   "source": [
    "y_pred = uniSVM.predict(X_test)\n",
    "print(classification_report(y_test,y_pred))\n",
    "print(confusion_matrix(y_test,y_pred))"
   ]
  },
  {
   "cell_type": "code",
   "execution_count": 130,
   "id": "9c041767",
   "metadata": {},
   "outputs": [
    {
     "name": "stdout",
     "output_type": "stream",
     "text": [
      "              precision    recall  f1-score   support\n",
      "\n",
      "          -1       0.75      0.31      0.44       121\n",
      "           0       0.70      0.97      0.81       576\n",
      "           1       0.76      0.33      0.46       273\n",
      "\n",
      "    accuracy                           0.71       970\n",
      "   macro avg       0.73      0.54      0.57       970\n",
      "weighted avg       0.72      0.71      0.67       970\n",
      "\n",
      "[[ 38  69  14]\n",
      " [  5 557  14]\n",
      " [  8 175  90]]\n"
     ]
    }
   ],
   "source": [
    "y_pred = biSVM.predict(X_test)\n",
    "print(classification_report(y_test,y_pred))\n",
    "print(confusion_matrix(y_test,y_pred))"
   ]
  },
  {
   "cell_type": "code",
   "execution_count": 131,
   "id": "80b61e19",
   "metadata": {},
   "outputs": [
    {
     "name": "stdout",
     "output_type": "stream",
     "text": [
      "              precision    recall  f1-score   support\n",
      "\n",
      "          -1       0.70      0.43      0.53       121\n",
      "           0       0.74      0.93      0.82       576\n",
      "           1       0.72      0.47      0.57       273\n",
      "\n",
      "    accuracy                           0.74       970\n",
      "   macro avg       0.72      0.61      0.64       970\n",
      "weighted avg       0.73      0.74      0.72       970\n",
      "\n",
      "[[ 52  53  16]\n",
      " [  9 533  34]\n",
      " [ 13 132 128]]\n"
     ]
    }
   ],
   "source": [
    "y_pred = uniBiSVM.predict(X_test)\n",
    "print(classification_report(y_test,y_pred))\n",
    "print(confusion_matrix(y_test,y_pred))"
   ]
  },
  {
   "cell_type": "code",
   "execution_count": 140,
   "id": "133a8a02",
   "metadata": {},
   "outputs": [
    {
     "ename": "ValueError",
     "evalue": "Cannot take a larger sample than population when 'replace=False'",
     "output_type": "error",
     "traceback": [
      "\u001b[1;31m---------------------------------------------------------------------------\u001b[0m",
      "\u001b[1;31mValueError\u001b[0m                                Traceback (most recent call last)",
      "\u001b[1;32m<ipython-input-140-08fdf3fd87cb>\u001b[0m in \u001b[0;36m<module>\u001b[1;34m\u001b[0m\n\u001b[1;32m----> 1\u001b[1;33m \u001b[0mtraining_data\u001b[0m \u001b[1;33m=\u001b[0m \u001b[0mtraining_data\u001b[0m\u001b[1;33m.\u001b[0m\u001b[0mdrop\u001b[0m\u001b[1;33m(\u001b[0m\u001b[0mtraining_data\u001b[0m\u001b[1;33m[\u001b[0m\u001b[0mtraining_data\u001b[0m\u001b[1;33m[\u001b[0m\u001b[1;34m'Score'\u001b[0m\u001b[1;33m]\u001b[0m \u001b[1;33m==\u001b[0m \u001b[1;36m1\u001b[0m\u001b[1;33m]\u001b[0m\u001b[1;33m.\u001b[0m\u001b[0msample\u001b[0m\u001b[1;33m(\u001b[0m\u001b[0mn\u001b[0m\u001b[1;33m=\u001b[0m\u001b[1;36m759\u001b[0m\u001b[1;33m)\u001b[0m\u001b[1;33m.\u001b[0m\u001b[0mindex\u001b[0m\u001b[1;33m)\u001b[0m\u001b[1;33m\u001b[0m\u001b[1;33m\u001b[0m\u001b[0m\n\u001b[0m\u001b[0;32m      2\u001b[0m \u001b[0mtraining_data\u001b[0m \u001b[1;33m=\u001b[0m \u001b[0mtraining_data\u001b[0m\u001b[1;33m.\u001b[0m\u001b[0mdrop\u001b[0m\u001b[1;33m(\u001b[0m\u001b[0mtraining_data\u001b[0m\u001b[1;33m[\u001b[0m\u001b[0mtraining_data\u001b[0m\u001b[1;33m[\u001b[0m\u001b[1;34m'Score'\u001b[0m\u001b[1;33m]\u001b[0m \u001b[1;33m==\u001b[0m \u001b[1;36m0\u001b[0m\u001b[1;33m]\u001b[0m\u001b[1;33m.\u001b[0m\u001b[0msample\u001b[0m\u001b[1;33m(\u001b[0m\u001b[0mn\u001b[0m\u001b[1;33m=\u001b[0m\u001b[1;36m2275\u001b[0m\u001b[1;33m)\u001b[0m\u001b[1;33m.\u001b[0m\u001b[0mindex\u001b[0m\u001b[1;33m)\u001b[0m\u001b[1;33m\u001b[0m\u001b[1;33m\u001b[0m\u001b[0m\n",
      "\u001b[1;32m~\\anaconda3\\lib\\site-packages\\pandas\\core\\generic.py\u001b[0m in \u001b[0;36msample\u001b[1;34m(self, n, frac, replace, weights, random_state, axis)\u001b[0m\n\u001b[0;32m   5348\u001b[0m             )\n\u001b[0;32m   5349\u001b[0m \u001b[1;33m\u001b[0m\u001b[0m\n\u001b[1;32m-> 5350\u001b[1;33m         \u001b[0mlocs\u001b[0m \u001b[1;33m=\u001b[0m \u001b[0mrs\u001b[0m\u001b[1;33m.\u001b[0m\u001b[0mchoice\u001b[0m\u001b[1;33m(\u001b[0m\u001b[0maxis_length\u001b[0m\u001b[1;33m,\u001b[0m \u001b[0msize\u001b[0m\u001b[1;33m=\u001b[0m\u001b[0mn\u001b[0m\u001b[1;33m,\u001b[0m \u001b[0mreplace\u001b[0m\u001b[1;33m=\u001b[0m\u001b[0mreplace\u001b[0m\u001b[1;33m,\u001b[0m \u001b[0mp\u001b[0m\u001b[1;33m=\u001b[0m\u001b[0mweights\u001b[0m\u001b[1;33m)\u001b[0m\u001b[1;33m\u001b[0m\u001b[1;33m\u001b[0m\u001b[0m\n\u001b[0m\u001b[0;32m   5351\u001b[0m         \u001b[1;32mreturn\u001b[0m \u001b[0mself\u001b[0m\u001b[1;33m.\u001b[0m\u001b[0mtake\u001b[0m\u001b[1;33m(\u001b[0m\u001b[0mlocs\u001b[0m\u001b[1;33m,\u001b[0m \u001b[0maxis\u001b[0m\u001b[1;33m=\u001b[0m\u001b[0maxis\u001b[0m\u001b[1;33m)\u001b[0m\u001b[1;33m\u001b[0m\u001b[1;33m\u001b[0m\u001b[0m\n\u001b[0;32m   5352\u001b[0m \u001b[1;33m\u001b[0m\u001b[0m\n",
      "\u001b[1;32mmtrand.pyx\u001b[0m in \u001b[0;36mnumpy.random.mtrand.RandomState.choice\u001b[1;34m()\u001b[0m\n",
      "\u001b[1;31mValueError\u001b[0m: Cannot take a larger sample than population when 'replace=False'"
     ]
    }
   ],
   "source": [
    "training_data = training_data.drop(training_data[training_data['Score'] == 1].sample(n=759).index)\n",
    "training_data = training_data.drop(training_data[training_data['Score'] == 0].sample(n=2275).index)"
   ]
  },
  {
   "cell_type": "code",
   "execution_count": 142,
   "id": "d9e3900f",
   "metadata": {},
   "outputs": [
    {
     "data": {
      "text/plain": [
       "0.6115702479338843"
      ]
     },
     "execution_count": 142,
     "metadata": {},
     "output_type": "execute_result"
    }
   ],
   "source": [
    "uniSVM.fit(X_train, y_train)\n",
    "uniSVM.score(X_test, y_test)"
   ]
  },
  {
   "cell_type": "code",
   "execution_count": 143,
   "id": "ac5c15d4",
   "metadata": {},
   "outputs": [
    {
     "data": {
      "text/plain": [
       "0.6253443526170799"
      ]
     },
     "execution_count": 143,
     "metadata": {},
     "output_type": "execute_result"
    }
   ],
   "source": [
    "biSVM.fit(X_train, y_train)\n",
    "biSVM.score(X_test, y_test)"
   ]
  },
  {
   "cell_type": "code",
   "execution_count": 144,
   "id": "c2def0f5",
   "metadata": {},
   "outputs": [
    {
     "data": {
      "text/plain": [
       "0.6363636363636364"
      ]
     },
     "execution_count": 144,
     "metadata": {},
     "output_type": "execute_result"
    }
   ],
   "source": [
    "uniBiSVM.fit(X_train, y_train)\n",
    "uniBiSVM.score(X_test, y_test)"
   ]
  },
  {
   "cell_type": "markdown",
   "id": "437cdc25",
   "metadata": {},
   "source": [
    "## Results after downsampling"
   ]
  },
  {
   "cell_type": "code",
   "execution_count": 145,
   "id": "fa3dbbad",
   "metadata": {},
   "outputs": [
    {
     "name": "stdout",
     "output_type": "stream",
     "text": [
      "              precision    recall  f1-score   support\n",
      "\n",
      "          -1       0.72      0.71      0.72       121\n",
      "           0       0.53      0.64      0.58       121\n",
      "           1       0.59      0.49      0.53       121\n",
      "\n",
      "    accuracy                           0.61       363\n",
      "   macro avg       0.62      0.61      0.61       363\n",
      "weighted avg       0.62      0.61      0.61       363\n",
      "\n",
      "[[86 24 11]\n",
      " [14 77 30]\n",
      " [19 43 59]]\n"
     ]
    }
   ],
   "source": [
    "y_pred = uniSVM.predict(X_test)\n",
    "print(classification_report(y_test,y_pred))\n",
    "print(confusion_matrix(y_test,y_pred))"
   ]
  },
  {
   "cell_type": "code",
   "execution_count": 146,
   "id": "0b4ea7d1",
   "metadata": {},
   "outputs": [
    {
     "name": "stdout",
     "output_type": "stream",
     "text": [
      "              precision    recall  f1-score   support\n",
      "\n",
      "          -1       0.74      0.70      0.72       121\n",
      "           0       0.53      0.71      0.61       121\n",
      "           1       0.64      0.46      0.54       121\n",
      "\n",
      "    accuracy                           0.63       363\n",
      "   macro avg       0.64      0.63      0.62       363\n",
      "weighted avg       0.64      0.63      0.62       363\n",
      "\n",
      "[[85 24 12]\n",
      " [16 86 19]\n",
      " [14 51 56]]\n"
     ]
    }
   ],
   "source": [
    "y_pred = biSVM.predict(X_test)\n",
    "print(classification_report(y_test,y_pred))\n",
    "print(confusion_matrix(y_test,y_pred))"
   ]
  },
  {
   "cell_type": "code",
   "execution_count": 147,
   "id": "1fd4ef79",
   "metadata": {},
   "outputs": [
    {
     "name": "stdout",
     "output_type": "stream",
     "text": [
      "              precision    recall  f1-score   support\n",
      "\n",
      "          -1       0.75      0.73      0.74       121\n",
      "           0       0.56      0.60      0.58       121\n",
      "           1       0.61      0.59      0.60       121\n",
      "\n",
      "    accuracy                           0.64       363\n",
      "   macro avg       0.64      0.64      0.64       363\n",
      "weighted avg       0.64      0.64      0.64       363\n",
      "\n",
      "[[88 20 13]\n",
      " [16 72 33]\n",
      " [13 37 71]]\n"
     ]
    }
   ],
   "source": [
    "y_pred = uniBiSVM.predict(X_test)\n",
    "print(classification_report(y_test,y_pred))\n",
    "print(confusion_matrix(y_test,y_pred))"
   ]
  },
  {
   "cell_type": "code",
   "execution_count": 156,
   "id": "a339b34c",
   "metadata": {},
   "outputs": [],
   "source": [
    "training_data = training_data.append(training_data[training_data['Score'] == -1])\n",
    "## augmentation -1 * 3 and 1 * 2"
   ]
  },
  {
   "cell_type": "code",
   "execution_count": 157,
   "id": "7b27de29",
   "metadata": {},
   "outputs": [
    {
     "data": {
      "text/plain": [
       " 0    2879\n",
       " 1    2726\n",
       "-1    2416\n",
       "Name: Score, dtype: int64"
      ]
     },
     "execution_count": 157,
     "metadata": {},
     "output_type": "execute_result"
    }
   ],
   "source": [
    "training_data[\"Score\"].value_counts()"
   ]
  },
  {
   "cell_type": "code",
   "execution_count": 159,
   "id": "2cd1cdce",
   "metadata": {},
   "outputs": [
    {
     "data": {
      "text/plain": [
       "0.7800623052959501"
      ]
     },
     "execution_count": 159,
     "metadata": {},
     "output_type": "execute_result"
    }
   ],
   "source": [
    "uniSVM.fit(X_train, y_train)\n",
    "uniSVM.score(X_test, y_test)"
   ]
  },
  {
   "cell_type": "code",
   "execution_count": 160,
   "id": "26362b20",
   "metadata": {},
   "outputs": [
    {
     "data": {
      "text/plain": [
       "0.8218068535825546"
      ]
     },
     "execution_count": 160,
     "metadata": {},
     "output_type": "execute_result"
    }
   ],
   "source": [
    "biSVM.fit(X_train, y_train)\n",
    "biSVM.score(X_test, y_test)"
   ]
  },
  {
   "cell_type": "code",
   "execution_count": 161,
   "id": "85f9d69b",
   "metadata": {},
   "outputs": [
    {
     "data": {
      "text/plain": [
       "0.832398753894081"
      ]
     },
     "execution_count": 161,
     "metadata": {},
     "output_type": "execute_result"
    }
   ],
   "source": [
    "uniBiSVM.fit(X_train, y_train)\n",
    "uniBiSVM.score(X_test, y_test)"
   ]
  },
  {
   "cell_type": "markdown",
   "id": "7e6d4465",
   "metadata": {},
   "source": [
    "## Results after augmentation"
   ]
  },
  {
   "cell_type": "code",
   "execution_count": 162,
   "id": "8f65fc7c",
   "metadata": {},
   "outputs": [
    {
     "name": "stdout",
     "output_type": "stream",
     "text": [
      "              precision    recall  f1-score   support\n",
      "\n",
      "          -1       0.83      0.88      0.85       483\n",
      "           0       0.74      0.79      0.76       576\n",
      "           1       0.79      0.67      0.73       546\n",
      "\n",
      "    accuracy                           0.78      1605\n",
      "   macro avg       0.78      0.78      0.78      1605\n",
      "weighted avg       0.78      0.78      0.78      1605\n",
      "\n",
      "[[427  41  15]\n",
      " [ 35 457  84]\n",
      " [ 55 123 368]]\n"
     ]
    }
   ],
   "source": [
    "y_pred = uniSVM.predict(X_test)\n",
    "print(classification_report(y_test,y_pred))\n",
    "print(confusion_matrix(y_test,y_pred))"
   ]
  },
  {
   "cell_type": "code",
   "execution_count": 163,
   "id": "3f2e01ed",
   "metadata": {},
   "outputs": [
    {
     "name": "stdout",
     "output_type": "stream",
     "text": [
      "              precision    recall  f1-score   support\n",
      "\n",
      "          -1       0.86      0.93      0.89       483\n",
      "           0       0.78      0.84      0.81       576\n",
      "           1       0.83      0.71      0.77       546\n",
      "\n",
      "    accuracy                           0.82      1605\n",
      "   macro avg       0.82      0.83      0.82      1605\n",
      "weighted avg       0.82      0.82      0.82      1605\n",
      "\n",
      "[[447  24  12]\n",
      " [ 25 486  65]\n",
      " [ 49 111 386]]\n"
     ]
    }
   ],
   "source": [
    "y_pred = biSVM.predict(X_test)\n",
    "print(classification_report(y_test,y_pred))\n",
    "print(confusion_matrix(y_test,y_pred))"
   ]
  },
  {
   "cell_type": "code",
   "execution_count": 164,
   "id": "e960418c",
   "metadata": {},
   "outputs": [
    {
     "name": "stdout",
     "output_type": "stream",
     "text": [
      "              precision    recall  f1-score   support\n",
      "\n",
      "          -1       0.86      0.96      0.90       483\n",
      "           0       0.83      0.78      0.81       576\n",
      "           1       0.81      0.78      0.79       546\n",
      "\n",
      "    accuracy                           0.83      1605\n",
      "   macro avg       0.83      0.84      0.83      1605\n",
      "weighted avg       0.83      0.83      0.83      1605\n",
      "\n",
      "[[462  14   7]\n",
      " [ 31 450  95]\n",
      " [ 46  76 424]]\n"
     ]
    }
   ],
   "source": [
    "y_pred = uniBiSVM.predict(X_test)\n",
    "print(classification_report(y_test,y_pred))\n",
    "print(confusion_matrix(y_test,y_pred))"
   ]
  },
  {
   "cell_type": "code",
   "execution_count": null,
   "id": "80afa658",
   "metadata": {},
   "outputs": [],
   "source": []
  }
 ],
 "metadata": {
  "celltoolbar": "Raw Cell Format",
  "kernelspec": {
   "display_name": "Python 3",
   "language": "python",
   "name": "python3"
  },
  "language_info": {
   "codemirror_mode": {
    "name": "ipython",
    "version": 3
   },
   "file_extension": ".py",
   "mimetype": "text/x-python",
   "name": "python",
   "nbconvert_exporter": "python",
   "pygments_lexer": "ipython3",
   "version": "3.8.8"
  }
 },
 "nbformat": 4,
 "nbformat_minor": 5
}
